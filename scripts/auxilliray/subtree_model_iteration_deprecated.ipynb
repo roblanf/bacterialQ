{
 "cells": [
  {
   "cell_type": "code",
   "execution_count": 2,
   "metadata": {},
   "outputs": [],
   "source": [
    "def logging_cross_test_table(ref_concat_result, final_concat_result):\n",
    "    \"\"\"\n",
    "    Log the cross test results as a 3x3 table.\n",
    "    \"\"\"\n",
    "    def extract_best_bic(model_data):\n",
    "        \"\"\"\n",
    "        Extract the best BIC for inferred and existed models from the model data.\n",
    "        \"\"\"\n",
    "        inferred_bic = float('-inf')\n",
    "        existed_bic = float('-inf')\n",
    "        \n",
    "        for model, _, bic in model_data:\n",
    "            bic = float(bic)\n",
    "            if model.startswith(('d__', 'p__', 'c__', 'o__', 'f__', 'g__', 's__')):\n",
    "                inferred_bic = min(inferred_bic, bic)\n",
    "            else:\n",
    "                existed_bic = min(existed_bic, bic)\n",
    "        \n",
    "        return inferred_bic, existed_bic\n",
    "\n",
    "    # Extract best logL for inferred and existed models\n",
    "    bic11, bic21 = extract_best_bic(final_concat_result)\n",
    "    bic12, bic22 = extract_best_bic(ref_concat_result)\n",
    "    \n",
    "    # Calculate differences\n",
    "    tree_diff1 = round(bic11 - bic12, 4)\n",
    "    tree_diff2 = round(bic21 - bic22, 4)\n",
    "    model_diff1 = round(bic11 - bic21, 4)\n",
    "    model_diff2 = round(bic12 - bic22, 4)\n",
    "\n",
    "    # Determine the signs for tree and model differences\n",
    "    tree_diff_sign = 'T~'\n",
    "    if tree_diff1 > 0 and tree_diff2 > 0:\n",
    "        tree_diff_sign = 'T-'\n",
    "    elif tree_diff1 < 0 and tree_diff2 < 0:\n",
    "        tree_diff_sign = 'T+'\n",
    "    \n",
    "    model_diff_sign = 'M~'\n",
    "    if model_diff1 > 0 and model_diff2 > 0:\n",
    "        model_diff_sign = 'M-'\n",
    "    elif model_diff1 < 0 and model_diff2 < 0:\n",
    "        model_diff_sign = 'M+'\n",
    "    \n",
    "    # Format the final model_tree_diff\n",
    "    model_tree_diff = f\"{model_diff_sign}/{tree_diff_sign}\"\n",
    "    \n",
    "    # Print the 2x2 table\n",
    "    log_message('result', \"BIC difference between different models and trees:\")\n",
    "    log_message('result', \"| Model | Final tree | Reference tree | Tree diff |\", new_line = True)\n",
    "    log_message('result', \"|-------|------------|----------------|-----------|\")\n",
    "    log_message('result', f\"| Inferred model | {bic11:.4f} | {bic12:.4f} | {tree_diff1:.4f} |\")\n",
    "    log_message('result', f\"| Existed model | {bic21:.4f} | {bic22:.4f} | {tree_diff2:.4f} |\")\n",
    "    log_message('result', f\"| Model diff | {model_diff1:.4f} | {model_diff2:.4f} | {model_tree_diff} |\")\n",
    "    log_message('result', f\"{model_tree_diff} means weather model(M) and tree(T) have same trend in BIC change.(+ final better, - final worse, ~ no trend)\")"
   ]
  },
  {
   "cell_type": "code",
   "execution_count": null,
   "metadata": {},
   "outputs": [],
   "source": []
  }
 ],
 "metadata": {
  "kernelspec": {
   "display_name": "qgtdb",
   "language": "python",
   "name": "python3"
  },
  "language_info": {
   "codemirror_mode": {
    "name": "ipython",
    "version": 3
   },
   "file_extension": ".py",
   "mimetype": "text/x-python",
   "name": "python",
   "nbconvert_exporter": "python",
   "pygments_lexer": "ipython3",
   "version": "3.9.16"
  }
 },
 "nbformat": 4,
 "nbformat_minor": 2
}
