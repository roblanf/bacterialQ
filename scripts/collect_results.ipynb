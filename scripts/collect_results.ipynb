{
 "cells": [
  {
   "cell_type": "code",
   "execution_count": 57,
   "metadata": {},
   "outputs": [],
   "source": [
    "result_folder = \"/mnt/data/dayhoff/home/u7457359/project/GTDB/GTDB_TREE/Result/safe_phyla\""
   ]
  },
  {
   "cell_type": "code",
   "execution_count": 58,
   "metadata": {},
   "outputs": [
    {
     "name": "stdout",
     "output_type": "stream",
     "text": [
      "p__Zixibacteria_50_1\n",
      "p__Zixibacteria_50_2\n",
      "p__Eisenbacteria_50_1\n",
      "p__Eisenbacteria_50_2\n",
      "p__Deferribacterota_50_1\n",
      "p__Deferribacterota_50_2\n",
      "p__Chlamydiota_100_1\n",
      "p__Chlamydiota_100_2\n",
      "p__Fibrobacterota_50_1\n",
      "p__Fibrobacterota_50_2\n",
      "p__Deinococcota_100_1\n",
      "p__Deinococcota_100_2\n",
      "p__Krumholzibacteriota_93_1\n",
      "p__Krumholzibacteriota_93_2\n",
      "p__Marinisomatota_100_1\n",
      "p__Marinisomatota_100_2\n",
      "p__Aquificota_50_1\n",
      "p__Aquificota_50_2\n",
      "p__Caldisericota_49_1\n",
      "p__Caldisericota_49_2\n",
      "p__Dependentiae_123_1\n",
      "p__Dependentiae_123_2\n",
      "p__Thermotogota_108_1\n",
      "p__Thermotogota_108_2\n",
      "p__Poribacteria_94_1\n",
      "p__Poribacteria_94_2\n",
      "p__Fusobacteriota_50_1\n",
      "p__Fusobacteriota_50_2\n",
      "p__Cloacimonadota_50_1\n",
      "p__Cloacimonadota_50_2\n",
      "p__Bipolaricaulota_106_1\n",
      "p__Bipolaricaulota_106_2\n",
      "p__Margulisbacteria_50_1\n",
      "p__Margulisbacteria_50_2\n"
     ]
    }
   ],
   "source": [
    "import os\n",
    "import shutil\n",
    "import pandas as pd\n",
    "import re\n",
    "from Q_convert import extract_Q_from_nex, AminoAcidSubstitutionModel\n",
    "from glob import glob\n",
    "\n",
    "def combine_iqtree_sum(input_file, output_file):\n",
    "    if not os.path.exists(output_file) or os.stat(output_file).st_size == 0:\n",
    "        shutil.copy(input_file, output_file)\n",
    "    else:\n",
    "        with open(input_file, 'r') as f:\n",
    "            next(f)  # skip header line\n",
    "            with open(output_file, 'a') as out:\n",
    "                shutil.copyfileobj(f, out)\n",
    "\n",
    "def extract_last_treefile(directory, destination):\n",
    "    # Get all the loop directories in the given directory\n",
    "    loop_dirs = sorted(glob(os.path.join(directory, 'loop_*')))\n",
    "    \n",
    "    # Get the last loop directory\n",
    "    last_loop_dir = loop_dirs[-1]\n",
    "    \n",
    "    # Get the .treefile in the tree_update directory of the last loop\n",
    "    treefile = glob(os.path.join(last_loop_dir, 'tree_update', '*.treefile'))[0]\n",
    "    \n",
    "    # Copy the treefile to the destination directory\n",
    "    shutil.copy(treefile, destination)\n",
    "\n",
    "def extract_phylum_name(string):\n",
    "    # Extract the phylum name using regex\n",
    "    match = re.search(r'p__(.*?)_\\d{2,}', string)\n",
    "    if match:\n",
    "        phylum_name = match.group(1)\n",
    "    else:\n",
    "        phylum_name = 'Unknown'\n",
    "    return phylum_name\n",
    "\n",
    "def process_directory(result_dir, sum_dir='./'):\n",
    "    if os.path.exists(os.path.join(result_dir, 'final_test', 'tree_comparison.html')):\n",
    "        extract_last_treefile(result_dir, os.path.join(sum_dir, 'treefiles'))\n",
    "        combine_iqtree_sum(os.path.join(result_dir, 'iqtree_results.csv'), os.path.join(sum_dir, 'combined_iqtree_sum.csv'))\n",
    "        Q_matrix = extract_Q_from_nex(os.path.join(result_dir, 'trained_models', 'trained_model.nex'))\n",
    "        for i in range(len(Q_matrix)):\n",
    "            Q_matrix[i].add_Q_to_nex(os.path.join(sum_dir, 'trained_models_all.nex'))\n",
    "        Q_matrix[-1].add_Q_to_nex(os.path.join(sum_dir, 'trained_models_last.nex'))\n",
    "        shutil.copy(os.path.join(result_dir, 'log.md'), os.path.join(sum_dir, 'logfiles', '{}_log.md'.format(os.path.basename(result_dir))))\n",
    "        phylum_name = extract_phylum_name(result_dir)\n",
    "        # Write the phylum name to the destination file\n",
    "        with open(os.path.join(sum_dir, 'phylum_list.txt'), 'a') as f:\n",
    "            f.write(phylum_name + '\\n')\n",
    "\n",
    "def process_all_directories(root_directory, sum_dir='./TESTING/sum_res'):\n",
    "    # Create the treefiles & logfiles directory if it doesn't exist\n",
    "    treefiles_dir = os.path.join(sum_dir, 'treefiles')\n",
    "    if not os.path.exists(treefiles_dir):\n",
    "        os.makedirs(treefiles_dir)\n",
    "    logfiles_dir = os.path.join(sum_dir, 'logfiles')\n",
    "    if not os.path.exists(logfiles_dir):\n",
    "        os.makedirs(logfiles_dir)\n",
    "    for directory in os.listdir(root_directory):\n",
    "        full_directory = os.path.join(root_directory, directory)\n",
    "        if os.path.isdir(full_directory):\n",
    "            process_directory(full_directory, sum_dir)\n",
    "\n",
    "process_all_directories('/mnt/data/dayhoff/home/u7457359/project/GTDB/GTDB_TREE/Result/safe_phyla')\n"
   ]
  },
  {
   "cell_type": "code",
   "execution_count": 59,
   "metadata": {},
   "outputs": [],
   "source": [
    "existed_model_nex = \"/mnt/data/dayhoff/home/u7457359/project/GTDB/GTDB_TREE/data/modelset_ALL.nex\"\n",
    "trained_model_nex = \"/mnt/data/dayhoff/home/u7457359/project/GTDB/GTDB_TREE/scripts/TESTING/sum_res/trained_models_last.nex\""
   ]
  },
  {
   "cell_type": "code",
   "execution_count": 60,
   "metadata": {},
   "outputs": [
    {
     "name": "stderr",
     "output_type": "stream",
     "text": [
      "Loading required package: ggplot2\n",
      "Loading required package: ggplot2\n"
     ]
    },
    {
     "data": {
      "text/plain": [
       "CompletedProcess(args=['Rscript', '/mnt/data/dayhoff/home/u7457359/project/GTDB/GTDB_TREE/scripts/tSNE_Q.R', '/mnt/data/dayhoff/home/u7457359/project/GTDB/GTDB_TREE/data/modelset_ALL.nex', '/mnt/data/dayhoff/home/u7457359/project/GTDB/GTDB_TREE/scripts/TESTING/sum_res/trained_models_last.nex', '/mnt/data/dayhoff/home/u7457359/project/GTDB/GTDB_TREE/scripts/TESTING/sum_res/'], returncode=0)"
      ]
     },
     "execution_count": 60,
     "metadata": {},
     "output_type": "execute_result"
    }
   ],
   "source": [
    "import subprocess\n",
    "# run r script to plot the PCA and tSNE plot\n",
    "subprocess.run([\"Rscript\", \"/mnt/data/dayhoff/home/u7457359/project/GTDB/GTDB_TREE/scripts/PCA_Q.R\", existed_model_nex, trained_model_nex, \"/mnt/data/dayhoff/home/u7457359/project/GTDB/GTDB_TREE/scripts/TESTING/sum_res/\"])\n",
    "subprocess.run([\"Rscript\", \"/mnt/data/dayhoff/home/u7457359/project/GTDB/GTDB_TREE/scripts/tSNE_Q.R\", existed_model_nex, trained_model_nex, \"/mnt/data/dayhoff/home/u7457359/project/GTDB/GTDB_TREE/scripts/TESTING/sum_res/\"])"
   ]
  },
  {
   "cell_type": "code",
   "execution_count": 61,
   "metadata": {},
   "outputs": [],
   "source": [
    "# run r script to generate pairwise comparison of trees\n",
    "# subprocess.run([\"Rscript\", \"/mnt/data/dayhoff/home/u7457359/project/GTDB/GTDB_TREE/scripts/analysis/write_pairwise_tree_dist.R\", \"/mnt/data/dayhoff/home/u7457359/project/GTDB/GTDB_TREE/scripts/TESTING/sum_res/treefiles\"])"
   ]
  },
  {
   "cell_type": "code",
   "execution_count": 78,
   "metadata": {},
   "outputs": [],
   "source": [
    "#!/usr/bin/env python3\n",
    "import numpy as np\n",
    "import csv\n",
    "import sys\n",
    "import os\n",
    "import argparse\n",
    "\n",
    "from Q_convert import *\n",
    "\n",
    "def calculate_distance(nex_file, attr = 'Q_matrix'):\n",
    "    # Read nex file and extract all models\n",
    "    # This depends on the structure of your nex file and the Model class\n",
    "    models = extract_Q_from_nex(nex_file)  # Replace with actual function to read nex file\n",
    "\n",
    "    # change the model names to the phylum names\n",
    "    for i in range(len(models)):\n",
    "        models[i].create_Q_matrix()\n",
    "        models[i].model_name = extract_phylum_name(models[i].model_name)\n",
    "        models[i].Q_params = models[i].Q_params/np.sum(models[i].Q_params)\n",
    "\n",
    "    # Calculate pairwise distance for all models\n",
    "    distance_matrix = np.zeros((len(models), len(models)))\n",
    "    for i in range(len(models)):\n",
    "        for j in range(i, len(models)):\n",
    "            attr1 = getattr(models[i], attr)\n",
    "            attr2 = getattr(models[j], attr)\n",
    "            # corr = np.corrcoef(attr1.flatten(), attr2.flatten())[0, 1]\n",
    "            dist = np.linalg.norm(attr1 - attr2)\n",
    "            distance_matrix[i, j] = dist\n",
    "            distance_matrix[j, i] = dist\n",
    "\n",
    "    return distance_matrix, [model.model_name for model in models]  # Assuming each model has a name attribute\n",
    "\n",
    "def save_to_csv(distance_matrix, model_names, output_file):\n",
    "    # Open the output file in write mode\n",
    "    with open(output_file, 'w', newline='') as csvfile:\n",
    "        writer = csv.writer(csvfile)\n",
    "\n",
    "        # Write the header\n",
    "        writer.writerow(model_names)\n",
    "\n",
    "        # Write the rows\n",
    "        for i, row in enumerate(distance_matrix):\n",
    "            writer.writerow([model_names[i]] + list(row))\n",
    "\n",
    "def write_distance_matrix(nex_file, output_file):\n",
    "    distance_matrix, model_names = calculate_distance(nex_file)\n",
    "    save_to_csv(distance_matrix, model_names, output_file)\n"
   ]
  },
  {
   "cell_type": "code",
   "execution_count": 79,
   "metadata": {},
   "outputs": [
    {
     "name": "stdout",
     "output_type": "stream",
     "text": [
      "p__Zixibacteria_50_2\n",
      "p__Eisenbacteria_50_2\n",
      "p__Deferribacterota_50_2\n",
      "p__Chlamydiota_100_2\n",
      "p__Fibrobacterota_50_2\n",
      "p__Deinococcota_100_2\n",
      "p__Krumholzibacteriota_93_2\n",
      "p__Marinisomatota_100_2\n",
      "p__Aquificota_50_2\n",
      "p__Caldisericota_49_2\n",
      "p__Dependentiae_123_2\n",
      "p__Thermotogota_108_2\n",
      "p__Poribacteria_94_2\n",
      "p__Fusobacteriota_50_2\n",
      "p__Cloacimonadota_50_2\n",
      "p__Bipolaricaulota_106_2\n",
      "p__Margulisbacteria_50_2\n"
     ]
    }
   ],
   "source": [
    "write_distance_matrix(trained_model_nex, \"./TESTING/sum_res/distance_matrix.csv\")"
   ]
  },
  {
   "cell_type": "code",
   "execution_count": null,
   "metadata": {},
   "outputs": [],
   "source": []
  },
  {
   "cell_type": "code",
   "execution_count": null,
   "metadata": {},
   "outputs": [],
   "source": []
  },
  {
   "cell_type": "code",
   "execution_count": null,
   "metadata": {},
   "outputs": [],
   "source": []
  },
  {
   "cell_type": "code",
   "execution_count": null,
   "metadata": {},
   "outputs": [],
   "source": []
  }
 ],
 "metadata": {
  "kernelspec": {
   "display_name": "qgtdb",
   "language": "python",
   "name": "python3"
  },
  "language_info": {
   "codemirror_mode": {
    "name": "ipython",
    "version": 3
   },
   "file_extension": ".py",
   "mimetype": "text/x-python",
   "name": "python",
   "nbconvert_exporter": "python",
   "pygments_lexer": "ipython3",
   "version": "3.9.16"
  }
 },
 "nbformat": 4,
 "nbformat_minor": 2
}
