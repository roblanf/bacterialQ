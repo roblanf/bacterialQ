{
 "cells": [
  {
   "cell_type": "code",
   "execution_count": 47,
   "id": "06e8f023-4f07-48ac-9c89-a390a2c98c01",
   "metadata": {},
   "outputs": [
    {
     "name": "stderr",
     "output_type": "stream",
     "text": [
      "── \u001b[1mAttaching core tidyverse packages\u001b[22m ──────────────────────────────────────────────────────────────── tidyverse 2.0.0 ──\n",
      "\u001b[32m✔\u001b[39m \u001b[34mforcats  \u001b[39m 1.0.0     \u001b[32m✔\u001b[39m \u001b[34mreadr    \u001b[39m 2.1.4\n",
      "\u001b[32m✔\u001b[39m \u001b[34mggplot2  \u001b[39m 3.4.4     \u001b[32m✔\u001b[39m \u001b[34mstringr  \u001b[39m 1.5.0\n",
      "\u001b[32m✔\u001b[39m \u001b[34mlubridate\u001b[39m 1.9.3     \u001b[32m✔\u001b[39m \u001b[34mtibble   \u001b[39m 3.2.1\n",
      "\u001b[32m✔\u001b[39m \u001b[34mpurrr    \u001b[39m 1.0.2     \n",
      "── \u001b[1mConflicts\u001b[22m ────────────────────────────────────────────────────────────────────────────────── tidyverse_conflicts() ──\n",
      "\u001b[31m✖\u001b[39m \u001b[34mdplyr\u001b[39m::\u001b[32mfilter()\u001b[39m masks \u001b[34mtidytree\u001b[39m::filter(), \u001b[34mstats\u001b[39m::filter()\n",
      "\u001b[31m✖\u001b[39m \u001b[34mdplyr\u001b[39m::\u001b[32mlag()\u001b[39m    masks \u001b[34mstats\u001b[39m::lag()\n",
      "\u001b[31m✖\u001b[39m \u001b[34mape\u001b[39m::\u001b[32mwhere()\u001b[39m    masks \u001b[34mdplyr\u001b[39m::where()\n",
      "\u001b[36mℹ\u001b[39m Use the conflicted package (\u001b[3m\u001b[34m<http://conflicted.r-lib.org/>\u001b[39m\u001b[23m) to force all conflicts to become errors\n"
     ]
    }
   ],
   "source": [
    "library(tidytree)\n",
    "library(tidyverse)\n",
    "library(ape)\n",
    "library(castor)\n",
    "options(repr.plot.width = 8, repr.plot.height = 16, repr.plot.res = 100)"
   ]
  },
  {
   "cell_type": "code",
   "execution_count": 48,
   "id": "1ff6a21e-2505-4fa8-be00-6981476fc98d",
   "metadata": {},
   "outputs": [],
   "source": [
    "ref_tree <- \"../Result_rona/Diff_tree_size_p__Campylobacterota/p__Campylobacterota_300/ref_tree.tre\"\n",
    "loop1_tree <- \"../Result_rona/Diff_tree_size_p__Campylobacterota/p__Campylobacterota_300/loop_1/tree_update/p__Campylobacterota_300_1.treefile\"\n",
    "loop2_tree <- \"../Result_rona/Diff_tree_size_p__Campylobacterota/p__Campylobacterota_300/loop_2/tree_update/p__Campylobacterota_300_2.treefile\"\n",
    "\n",
    "ref_tree <- read.tree(ref_tree)\n",
    "loop1_tree <- read.tree(loop1_tree)\n",
    "loop2_tree <- read.tree(loop2_tree)"
   ]
  },
  {
   "cell_type": "code",
   "execution_count": 49,
   "id": "9bd3aee6-55de-4572-a2c5-183a55e35e53",
   "metadata": {},
   "outputs": [],
   "source": [
    "contree <- consensus(ref_tree, loop1_tree)"
   ]
  },
  {
   "cell_type": "code",
   "execution_count": 50,
   "id": "95020018-2a41-46dd-9bda-add3e8cbb3bf",
   "metadata": {},
   "outputs": [],
   "source": [
    "gtdb_tree <- \"../data/r207/gtdb_r207_bac120_unscaled.decorated.tree\"\n",
    "gtdb_tree <- ape::read.tree(gtdb_tree)\n",
    "gtdb_treedf <- as_tibble(gtdb_tree)"
   ]
  },
  {
   "cell_type": "code",
   "execution_count": 73,
   "id": "458a5479-11ca-4307-b071-7260c3c10d29",
   "metadata": {},
   "outputs": [
    {
     "name": "stderr",
     "output_type": "stream",
     "text": [
      "\u001b[33m!\u001b[39m # Invaild edge matrix for \u001b[34m\u001b[34m<phylo>\u001b[34m\u001b[39m. A \u001b[34m\u001b[34m<tbl_df>\u001b[34m\u001b[39m is returned.\n",
      "\n"
     ]
    }
   ],
   "source": [
    "taxon_node <- gtdb_treedf %>% \n",
    "    filter(!is.na(branch.length)) %>% \n",
    "    filter(node > length(gtdb_tree$tip.label))  %>% \n",
    "    filter(nzchar(label) > 0) %>%\n",
    "    filter(is.na(suppressWarnings(as.numeric(label)))) %>%\n",
    "    mutate(label = trimws(label, \"both\", \"'\")) %>% \n",
    "    separate(label, into = c(\"support_value\", \"taxa_info\"), sep = \":\", extra = \"merge\") %>%\n",
    "    mutate(taxa_info = strsplit(taxa_info, \"; \")) %>%\n",
    "    unnest(taxa_info)"
   ]
  },
  {
   "cell_type": "code",
   "execution_count": 74,
   "id": "f06b13df-a1f8-4ff1-885f-c54703955a80",
   "metadata": {},
   "outputs": [
    {
     "data": {
      "text/html": [
       "<table class=\"dataframe\">\n",
       "<caption>A tibble: 1 × 5</caption>\n",
       "<thead>\n",
       "\t<tr><th scope=col>parent</th><th scope=col>node</th><th scope=col>branch.length</th><th scope=col>support_value</th><th scope=col>taxa_info</th></tr>\n",
       "\t<tr><th scope=col>&lt;int&gt;</th><th scope=col>&lt;int&gt;</th><th scope=col>&lt;dbl&gt;</th><th scope=col>&lt;chr&gt;</th><th scope=col>&lt;chr&gt;</th></tr>\n",
       "</thead>\n",
       "<tbody>\n",
       "\t<tr><td>63138</td><td>63199</td><td>0.06589</td><td>86.0</td><td>p__Campylobacterota</td></tr>\n",
       "</tbody>\n",
       "</table>\n"
      ],
      "text/latex": [
       "A tibble: 1 × 5\n",
       "\\begin{tabular}{lllll}\n",
       " parent & node & branch.length & support\\_value & taxa\\_info\\\\\n",
       " <int> & <int> & <dbl> & <chr> & <chr>\\\\\n",
       "\\hline\n",
       "\t 63138 & 63199 & 0.06589 & 86.0 & p\\_\\_Campylobacterota\\\\\n",
       "\\end{tabular}\n"
      ],
      "text/markdown": [
       "\n",
       "A tibble: 1 × 5\n",
       "\n",
       "| parent &lt;int&gt; | node &lt;int&gt; | branch.length &lt;dbl&gt; | support_value &lt;chr&gt; | taxa_info &lt;chr&gt; |\n",
       "|---|---|---|---|---|\n",
       "| 63138 | 63199 | 0.06589 | 86.0 | p__Campylobacterota |\n",
       "\n"
      ],
      "text/plain": [
       "  parent node  branch.length support_value taxa_info          \n",
       "1 63138  63199 0.06589       86.0          p__Campylobacterota"
      ]
     },
     "metadata": {},
     "output_type": "display_data"
    }
   ],
   "source": [
    "taxon_node %>% filter(taxa_info == \"p__Campylobacterota\")"
   ]
  },
  {
   "cell_type": "code",
   "execution_count": 79,
   "id": "f6312c0b-27af-44f6-b1c8-d15ea72bc4e1",
   "metadata": {},
   "outputs": [],
   "source": [
    "all_subtrees <- taxon_node %>% \n",
    "    mutate(subtree = get_subtrees_at_nodes(tree = gtdb_tree,node = node - length(gtdb_tree$tip.label))$subtree)"
   ]
  },
  {
   "cell_type": "code",
   "execution_count": 99,
   "id": "d7e83298-6c8b-46b2-94c3-9aa140f2705d",
   "metadata": {},
   "outputs": [
    {
     "ename": "ERROR",
     "evalue": "\u001b[1m\u001b[33mError\u001b[39m in `mutate()`:\u001b[22m\n\u001b[1m\u001b[22m\u001b[36mℹ\u001b[39m In argument: `tips = map_dbl(subtree, ~.x$tip.label)`.\n\u001b[1mCaused by error in `map_dbl()`:\u001b[22m\n\u001b[1m\u001b[22m\u001b[36mℹ\u001b[39m In index: 1.\n\u001b[1mCaused by error:\u001b[22m\n\u001b[33m!\u001b[39m Result must be length 1, not 695.\n",
     "output_type": "error",
     "traceback": [
      "\u001b[1m\u001b[33mError\u001b[39m in `mutate()`:\u001b[22m\n\u001b[1m\u001b[22m\u001b[36mℹ\u001b[39m In argument: `tips = map_dbl(subtree, ~.x$tip.label)`.\n\u001b[1mCaused by error in `map_dbl()`:\u001b[22m\n\u001b[1m\u001b[22m\u001b[36mℹ\u001b[39m In index: 1.\n\u001b[1mCaused by error:\u001b[22m\n\u001b[33m!\u001b[39m Result must be length 1, not 695.\nTraceback:\n",
      "1. all_subtrees %>% mutate(tips = map_dbl(subtree, ~.x$tip.label)) %>% \n .     select(-subtree)",
      "2. select(., -subtree)",
      "3. mutate(., tips = map_dbl(subtree, ~.x$tip.label))",
      "4. mutate.data.frame(., tips = map_dbl(subtree, ~.x$tip.label))",
      "5. mutate_cols(.data, dplyr_quosures(...), by)",
      "6. withCallingHandlers(for (i in seq_along(dots)) {\n .     poke_error_context(dots, i, mask = mask)\n .     context_poke(\"column\", old_current_column)\n .     new_columns <- mutate_col(dots[[i]], data, mask, new_columns)\n . }, error = dplyr_error_handler(dots = dots, mask = mask, bullets = mutate_bullets, \n .     error_call = error_call, error_class = \"dplyr:::mutate_error\"), \n .     warning = dplyr_warning_handler(state = warnings_state, mask = mask, \n .         error_call = error_call))",
      "7. mutate_col(dots[[i]], data, mask, new_columns)",
      "8. mask$eval_all_mutate(quo)",
      "9. eval()",
      "10. map_dbl(subtree, ~.x$tip.label)",
      "11. map_(\"double\", .x, .f, ..., .progress = .progress)",
      "12. with_indexed_errors(i = i, names = names, error_call = .purrr_error_call, \n  .     call_with_cleanup(map_impl, environment(), .type, .progress, \n  .         n, names, i))",
      "13. withCallingHandlers(expr, error = function(cnd) {\n  .     if (i == 0L) {\n  .     }\n  .     else {\n  .         message <- c(i = \"In index: {i}.\")\n  .         if (!is.null(names) && !is.na(names[[i]]) && names[[i]] != \n  .             \"\") {\n  .             name <- names[[i]]\n  .             message <- c(message, i = \"With name: {name}.\")\n  .         }\n  .         else {\n  .             name <- NULL\n  .         }\n  .         cli::cli_abort(message, location = i, name = name, parent = cnd, \n  .             call = error_call, class = \"purrr_error_indexed\")\n  .     }\n  . })",
      "14. call_with_cleanup(map_impl, environment(), .type, .progress, \n  .     n, names, i)",
      "15. .handleSimpleError(function (cnd) \n  . {\n  .     if (i == 0L) {\n  .     }\n  .     else {\n  .         message <- c(i = \"In index: {i}.\")\n  .         if (!is.null(names) && !is.na(names[[i]]) && names[[i]] != \n  .             \"\") {\n  .             name <- names[[i]]\n  .             message <- c(message, i = \"With name: {name}.\")\n  .         }\n  .         else {\n  .             name <- NULL\n  .         }\n  .         cli::cli_abort(message, location = i, name = name, parent = cnd, \n  .             call = error_call, class = \"purrr_error_indexed\")\n  .     }\n  . }, \"Result must be length 1, not 695.\", base::quote(NULL))",
      "16. h(simpleError(msg, call))",
      "17. cli::cli_abort(message, location = i, name = name, parent = cnd, \n  .     call = error_call, class = \"purrr_error_indexed\")",
      "18. rlang::abort(message, ..., call = call, use_cli_format = TRUE, \n  .     .frame = .frame)",
      "19. signal_abort(cnd, .file)",
      "20. signalCondition(cnd)",
      "21. (function (cnd) \n  . {\n  .     local_error_context(dots, i = frame[[i_sym]], mask = mask)\n  .     if (inherits(cnd, \"dplyr:::internal_error\")) {\n  .         parent <- error_cnd(message = bullets(cnd))\n  .     }\n  .     else {\n  .         parent <- cnd\n  .     }\n  .     message <- c(cnd_bullet_header(action), i = if (has_active_group_context(mask)) cnd_bullet_cur_group_label())\n  .     abort(message, class = error_class, parent = parent, call = error_call)\n  . })(structure(list(message = c(i = \"In index: 1.\"), trace = structure(list(\n  .     call = list(IRkernel::main(), kernel$run(), handle_shell(), \n  .         executor$execute(msg), tryCatch(evaluate(request$content$code, \n  .             envir = .GlobalEnv, output_handler = oh, stop_on_error = 1L), \n  .             interrupt = function(cond) {\n  .                 log_debug(\"Interrupt during execution\")\n  .                 interrupted <<- TRUE\n  .             }, error = .self$handle_error), tryCatchList(expr, \n  .             classes, parentenv, handlers), tryCatchOne(tryCatchList(expr, \n  .             names[-nh], parentenv, handlers[-nh]), names[nh], \n  .             parentenv, handlers[[nh]]), doTryCatch(return(expr), \n  .             name, parentenv, handler), tryCatchList(expr, names[-nh], \n  .             parentenv, handlers[-nh]), tryCatchOne(expr, names, \n  .             parentenv, handlers[[1L]]), doTryCatch(return(expr), \n  .             name, parentenv, handler), evaluate(request$content$code, \n  .             envir = .GlobalEnv, output_handler = oh, stop_on_error = 1L), \n  .         evaluate_call(expr, parsed$src[[i]], envir = envir, enclos = enclos, \n  .             debug = debug, last = i == length(out), use_try = stop_on_error != \n  .                 2L, keep_warning = keep_warning, keep_message = keep_message, \n  .             log_echo = log_echo, log_warning = log_warning, output_handler = output_handler, \n  .             include_timing = include_timing), timing_fn(handle(ev <- withCallingHandlers(withVisible(eval_with_user_handlers(expr, \n  .             envir, enclos, user_handlers)), warning = wHandler, \n  .             error = eHandler, message = mHandler))), handle(ev <- withCallingHandlers(withVisible(eval_with_user_handlers(expr, \n  .             envir, enclos, user_handlers)), warning = wHandler, \n  .             error = eHandler, message = mHandler)), try(f, silent = TRUE), \n  .         tryCatch(expr, error = function(e) {\n  .             call <- conditionCall(e)\n  .             if (!is.null(call)) {\n  .                 if (identical(call[[1L]], quote(doTryCatch))) \n  .                   call <- sys.call(-4L)\n  .                 dcall <- deparse(call, nlines = 1L)\n  .                 prefix <- paste(\"Error in\", dcall, \": \")\n  .                 LONG <- 75L\n  .                 sm <- strsplit(conditionMessage(e), \"\\n\")[[1L]]\n  .                 w <- 14L + nchar(dcall, type = \"w\") + nchar(sm[1L], \n  .                   type = \"w\")\n  .                 if (is.na(w)) \n  .                   w <- 14L + nchar(dcall, type = \"b\") + nchar(sm[1L], \n  .                     type = \"b\")\n  .                 if (w > LONG) \n  .                   prefix <- paste0(prefix, \"\\n  \")\n  .             }\n  .             else prefix <- \"Error : \"\n  .             msg <- paste0(prefix, conditionMessage(e), \"\\n\")\n  .             .Internal(seterrmessage(msg[1L]))\n  .             if (!silent && isTRUE(getOption(\"show.error.messages\"))) {\n  .                 cat(msg, file = outFile)\n  .                 .Internal(printDeferredWarnings())\n  .             }\n  .             invisible(structure(msg, class = \"try-error\", condition = e))\n  .         }), tryCatchList(expr, classes, parentenv, handlers), \n  .         tryCatchOne(expr, names, parentenv, handlers[[1L]]), \n  .         doTryCatch(return(expr), name, parentenv, handler), withCallingHandlers(withVisible(eval_with_user_handlers(expr, \n  .             envir, enclos, user_handlers)), warning = wHandler, \n  .             error = eHandler, message = mHandler), withVisible(eval_with_user_handlers(expr, \n  .             envir, enclos, user_handlers)), eval_with_user_handlers(expr, \n  .             envir, enclos, user_handlers), eval(expr, envir, \n  .             enclos), eval(expr, envir, enclos), all_subtrees %>% \n  .             mutate(tips = map_dbl(subtree, ~.x$tip.label)) %>% \n  .             select(-subtree), select(., -subtree), mutate(., \n  .             tips = map_dbl(subtree, ~.x$tip.label)), mutate.data.frame(., \n  .             tips = map_dbl(subtree, ~.x$tip.label)), mutate_cols(.data, \n  .             dplyr_quosures(...), by), withCallingHandlers(for (i in seq_along(dots)) {\n  .             poke_error_context(dots, i, mask = mask)\n  .             context_poke(\"column\", old_current_column)\n  .             new_columns <- mutate_col(dots[[i]], data, mask, \n  .                 new_columns)\n  .         }, error = dplyr_error_handler(dots = dots, mask = mask, \n  .             bullets = mutate_bullets, error_call = error_call, \n  .             error_class = \"dplyr:::mutate_error\"), warning = dplyr_warning_handler(state = warnings_state, \n  .             mask = mask, error_call = error_call)), mutate_col(dots[[i]], \n  .             data, mask, new_columns), mask$eval_all_mutate(quo), \n  .         eval(), map_dbl(subtree, ~.x$tip.label), map_(\"double\", \n  .             .x, .f, ..., .progress = .progress), with_indexed_errors(i = i, \n  .             names = names, error_call = .purrr_error_call, call_with_cleanup(map_impl, \n  .                 environment(), .type, .progress, n, names, i)), \n  .         withCallingHandlers(expr, error = function(cnd) {\n  .             if (i == 0L) {\n  .             }\n  .             else {\n  .                 message <- c(i = \"In index: {i}.\")\n  .                 if (!is.null(names) && !is.na(names[[i]]) && \n  .                   names[[i]] != \"\") {\n  .                   name <- names[[i]]\n  .                   message <- c(message, i = \"With name: {name}.\")\n  .                 }\n  .                 else {\n  .                   name <- NULL\n  .                 }\n  .                 cli::cli_abort(message, location = i, name = name, \n  .                   parent = cnd, call = error_call, class = \"purrr_error_indexed\")\n  .             }\n  .         }), call_with_cleanup(map_impl, environment(), .type, \n  .             .progress, n, names, i), .handleSimpleError(`<fn>`, \n  .             \"Result must be length 1, not 695.\", base::quote(NULL)), \n  .         h(simpleError(msg, call)), cli::cli_abort(message, location = i, \n  .             name = name, parent = cnd, call = error_call, class = \"purrr_error_indexed\"), \n  .         rlang::abort(message, ..., call = call, use_cli_format = TRUE, \n  .             .frame = .frame)), parent = c(0L, 1L, 2L, 3L, 4L, \n  .     5L, 6L, 7L, 6L, 9L, 10L, 4L, 12L, 13L, 13L, 15L, 16L, 17L, \n  .     18L, 19L, 13L, 13L, 13L, 23L, 24L, 0L, 0L, 0L, 0L, 29L, 30L, \n  .     30L, 32L, 33L, 0L, 35L, 36L, 37L, 36L, 0L, 40L, 41L, 42L), \n  .     visible = c(TRUE, TRUE, TRUE, TRUE, TRUE, TRUE, TRUE, TRUE, \n  .     TRUE, TRUE, TRUE, TRUE, TRUE, TRUE, TRUE, TRUE, TRUE, TRUE, \n  .     TRUE, TRUE, TRUE, TRUE, TRUE, TRUE, TRUE, TRUE, TRUE, TRUE, \n  .     TRUE, TRUE, TRUE, TRUE, TRUE, TRUE, TRUE, TRUE, TRUE, TRUE, \n  .     TRUE, FALSE, FALSE, FALSE, FALSE), namespace = c(\"IRkernel\", \n  .     NA, \"IRkernel\", NA, \"base\", \"base\", \"base\", \"base\", \"base\", \n  .     \"base\", \"base\", \"evaluate\", \"evaluate\", \"evaluate\", \"evaluate\", \n  .     \"base\", \"base\", \"base\", \"base\", \"base\", \"base\", \"base\", \"evaluate\", \n  .     \"base\", \"base\", NA, \"dplyr\", \"dplyr\", \"dplyr\", \"dplyr\", \"base\", \n  .     \"dplyr\", NA, \"dplyr\", \"purrr\", \"purrr\", \"purrr\", \"base\", \n  .     \"purrr\", \"base\", \"purrr\", \"cli\", \"rlang\"), scope = c(\"::\", \n  .     NA, \"local\", NA, \"::\", \"local\", \"local\", \"local\", \"local\", \n  .     \"local\", \"local\", \"::\", \":::\", \"local\", \"local\", \"::\", \"::\", \n  .     \"local\", \"local\", \"local\", \"::\", \"::\", \":::\", \"::\", \"::\", \n  .     NA, \"::\", \"::\", \":::\", \":::\", \"::\", \":::\", NA, \"local\", \"::\", \n  .     \":::\", \":::\", \"::\", \":::\", \"::\", \"local\", \"::\", \"::\"), error_frame = c(FALSE, \n  .     FALSE, FALSE, FALSE, FALSE, FALSE, FALSE, FALSE, FALSE, FALSE, \n  .     FALSE, FALSE, FALSE, FALSE, FALSE, FALSE, FALSE, FALSE, FALSE, \n  .     FALSE, FALSE, FALSE, FALSE, FALSE, FALSE, FALSE, FALSE, FALSE, \n  .     FALSE, FALSE, FALSE, FALSE, FALSE, FALSE, TRUE, FALSE, FALSE, \n  .     FALSE, FALSE, FALSE, FALSE, FALSE, FALSE)), row.names = c(NA, \n  . -43L), version = 2L, class = c(\"rlang_trace\", \"rlib_trace\", \"tbl\", \n  . \"data.frame\")), parent = structure(list(message = \"Result must be length 1, not 695.\", \n  .     call = NULL), class = c(\"simpleError\", \"error\", \"condition\"\n  . )), location = 1L, name = NULL, rlang = list(inherit = TRUE), \n  .     call = map_dbl(subtree, ~.x$tip.label), use_cli_format = TRUE), class = c(\"purrr_error_indexed\", \n  . \"rlang_error\", \"error\", \"condition\")))",
      "22. abort(message, class = error_class, parent = parent, call = error_call)",
      "23. signal_abort(cnd, .file)"
     ]
    }
   ],
   "source": [
    " all_subtrees %>% \n",
    "    mutate(tips = map_dbl(subtree, ~ .x$tip.label)) %>% \n",
    "    select(-subtree)"
   ]
  },
  {
   "cell_type": "code",
   "execution_count": null,
   "id": "2aa3654f-a013-4d76-8e4f-7e53c6405b11",
   "metadata": {},
   "outputs": [],
   "source": []
  }
 ],
 "metadata": {
  "kernelspec": {
   "display_name": "R",
   "language": "R",
   "name": "ir"
  },
  "language_info": {
   "codemirror_mode": "r",
   "file_extension": ".r",
   "mimetype": "text/x-r-source",
   "name": "R",
   "pygments_lexer": "r",
   "version": "4.3.1"
  }
 },
 "nbformat": 4,
 "nbformat_minor": 5
}
