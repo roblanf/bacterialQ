{
 "cells": [
  {
   "cell_type": "code",
   "execution_count": 89,
   "metadata": {},
   "outputs": [],
   "source": [
    "# Load necessary libraries\n",
    "library(ape)\n",
    "library(phangorn)"
   ]
  },
  {
   "cell_type": "code",
   "execution_count": 99,
   "metadata": {},
   "outputs": [],
   "source": [
    "\n",
    "# @description\n",
    "# This function finds the edge that linked to root by read the tree$edge matrix.\n",
    "# @param tree A phylo format phylogenetic tree.\n",
    "# @return A vector of unique integers that represent the node number that linked to root.\n",
    "find_root_edge <- function(tree) {\n",
    "  # Get the edge matrix\n",
    "  matrix <- tree$edge\n",
    "  root_node <- 1 + length(tree$tip.label)\n",
    "  \n",
    "  # Extract all rows that contain the number 1\n",
    "  rows_with_one <- matrix[apply(matrix, 1, function(row) any(row == root_node)), ]\n",
    "  # Flatten the matrix to a vector\n",
    "  numbers <- as.vector(rows_with_one)\n",
    "  # Get unique numbers\n",
    "  unique_numbers <- unique(numbers)\n",
    "  # Remove the number 1\n",
    "  result <- unique_numbers[unique_numbers != root_node]\n",
    "  \n",
    "  return(result)\n",
    "}\n",
    "\n",
    "#' @description Process a phylogenetic tree by repeatedly rooting at the midpoint and splitting until all subtrees are within the specified size limits.\n",
    "#' @param tree_file Path to the Newick file containing the phylogenetic tree.\n",
    "#' @param tree_size_lower_lim Minimum size of the subtrees to keep.\n",
    "#' @param tree_size_upper_lim Maximum size of the subtrees to split.\n",
    "#' @param output_dir Directory to save the processed subtrees.\n",
    "process_phylogenetic_tree <- function(tree_file, tree_size_lower_lim, tree_size_upper_lim, output_dir) {\n",
    "  # Read the tree from the file\n",
    "  unsolve_subtree_list <- list(read.tree(tree_file))\n",
    "  solved_subtree_list <- list()\n",
    "  process_tree_list <- list()\n",
    "\n",
    "  # Loop until unsolve_subtree_list is empty\n",
    "  while (length(unsolve_subtree_list) > 0) {\n",
    "    for (tree in unsolve_subtree_list) {\n",
    "      # Check the size of the tree\n",
    "      tree_size <- length(tree$tip.label)\n",
    "      if (tree_size < tree_size_lower_lim) {\n",
    "        # Discard the tree if it's too small\n",
    "        next\n",
    "      } else if (tree_size <= tree_size_upper_lim) {\n",
    "        # Keep the tree if it's within the size limits\n",
    "        solved_subtree_list <- append(solved_subtree_list, list(tree))\n",
    "      } else {\n",
    "        # Process the tree if it's too large\n",
    "        tree <- midpoint(tree, node.labels = \"support\")\n",
    "        # Extract subtrees\n",
    "        root_edge_nodes <- find_root_edge(tree)\n",
    "        subtree1 <- extract.clade(tree, root_edge_nodes[[1]], collapse.singles = TRUE)\n",
    "        subtree2 <- extract.clade(tree, root_edge_nodes[[2]], collapse.singles = TRUE)\n",
    "        process_tree_list <- append(process_tree_list, list(subtree1, subtree2))\n",
    "      }\n",
    "    }\n",
    "    # Replace unsolve_subtree_list with process_tree_list and clear process_tree_list\n",
    "    unsolve_subtree_list <- process_tree_list\n",
    "    process_tree_list <- list()\n",
    "  }\n",
    "\n",
    "  # Save the solved subtrees to the output directory\n",
    "  for (i in seq_along(solved_subtree_list)) {\n",
    "    write.tree(solved_subtree_list[[i]], file = file.path(output_dir, paste0(\"subtree_\", i, \".nwk\")))\n",
    "  }\n",
    "}\n",
    "\n",
    "process_phylogenetic_tree(tree_file = \"/home/tim/project/GTDB_TREE/Result_rona/test/p__Marinisomatota_275/ref_tree.tre\", tree_size_lower_lim = 3, tree_size_upper_lim = 30, output_dir = \"/home/tim/project/GTDB_TREE/Result_rona/test/p__Marinisomatota_275/loop_1/mid_point_trees\")\n"
   ]
  },
  {
   "cell_type": "code",
   "execution_count": 96,
   "metadata": {},
   "outputs": [],
   "source": [
    "\n",
    "\n",
    "tree_file = \"/home/tim/project/GTDB_TREE/Result_rona/test/p__Marinisomatota_275/ref_tree.tre\"\n",
    "tree_size_lower_lim = 3\n",
    "tree_size_upper_lim = 30\n",
    "\n",
    "unsolve_subtree_list <- list(read.tree(tree_file))\n",
    "solved_subtree_list <- list()\n",
    "process_tree_list <- list()\n"
   ]
  },
  {
   "cell_type": "code",
   "execution_count": 97,
   "metadata": {},
   "outputs": [
    {
     "name": "stdout",
     "output_type": "stream",
     "text": [
      "[1] 266\n",
      "[1] 44\n",
      "[1] 222\n",
      "[1] 10\n",
      "[1] 34\n",
      "[1] 147\n",
      "[1] 75\n",
      "[1] 16\n",
      "[1] 18\n",
      "[1] 16\n",
      "[1] 131\n",
      "[1] 44\n",
      "[1] 31\n",
      "[1] 102\n",
      "[1] 29\n",
      "[1] 19\n",
      "[1] 25\n",
      "[1] 23\n",
      "[1] 8\n",
      "[1] 65\n",
      "[1] 37\n",
      "[1] 30\n",
      "[1] 35\n",
      "[1] 23\n",
      "[1] 14\n",
      "[1] 19\n",
      "[1] 16\n"
     ]
    }
   ],
   "source": [
    "# @description\n",
    "# This function finds the edge that linked to root by read the tree$edge matrix.\n",
    "# @param tree A phylo format phylogenetic tree.\n",
    "# @return A vector of unique integers that represent the node number that linked to root.\n",
    "find_root_edge <- function(tree) {\n",
    "  # Get the edge matrix\n",
    "  matrix <- tree$edge\n",
    "  root_node <- 1 + length(tree$tip.label)\n",
    "  # Extract all rows that contain the number 1\n",
    "  rows_with_one <- matrix[apply(matrix, 1, function(row) any(row == root_node)), ]\n",
    "  \n",
    "  # Flatten the matrix to a vector\n",
    "  numbers <- as.vector(rows_with_one)\n",
    "  \n",
    "  # Get unique numbers\n",
    "  unique_numbers <- unique(numbers)\n",
    "  \n",
    "  # Remove the number 1\n",
    "  result <- unique_numbers[unique_numbers != root_node]\n",
    "  \n",
    "  return(result)\n",
    "}\n",
    "\n",
    "# Loop until unsolve_subtree_list is empty\n",
    "while (length(unsolve_subtree_list) > 0) {\n",
    "for (tree in unsolve_subtree_list) {\n",
    "    # Check the size of the tree\n",
    "    tree_size <- length(tree$tip.label)\n",
    "    print(tree_size)\n",
    "    if (tree_size < tree_size_lower_lim) {\n",
    "    # Discard the tree if it's too small\n",
    "    next\n",
    "    } else if (tree_size <= tree_size_upper_lim) {\n",
    "    # Keep the tree if it's within the size limits\n",
    "    solved_subtree_list <- append(solved_subtree_list, list(tree))\n",
    "    } else {\n",
    "    # Process the tree if it's too large\n",
    "    tree <- midpoint(tree, node.labels = \"support\")\n",
    "    # Extract subtrees\n",
    "    root_edge_nodes <- find_root_edge(tree)\n",
    "    subtree1 <- extract.clade(tree, root_edge_nodes[[1]], collapse.singles = TRUE)\n",
    "    subtree2 <- extract.clade(tree, root_edge_nodes[[2]], collapse.singles = TRUE)\n",
    "    process_tree_list <- append(process_tree_list, list(subtree1, subtree2))\n",
    "    }\n",
    "}\n",
    "# Replace unsolve_subtree_list with process_tree_list and clear process_tree_list\n",
    "unsolve_subtree_list <- process_tree_list\n",
    "process_tree_list <- list()\n",
    "}"
   ]
  },
  {
   "cell_type": "code",
   "execution_count": 98,
   "metadata": {},
   "outputs": [
    {
     "data": {
      "text/plain": [
       "[[1]]\n",
       "\n",
       "Phylogenetic tree with 10 tips and 9 internal nodes.\n",
       "\n",
       "Tip labels:\n",
       "  G022560655, G020354025, G020355065, G020346745, G022563485, G030640955, ...\n",
       "Node labels:\n",
       "  100.00, 68.00, 76.00, 88.00, 100.00, 100.00, ...\n",
       "\n",
       "Rooted; includes branch lengths.\n",
       "\n",
       "[[2]]\n",
       "\n",
       "Phylogenetic tree with 16 tips and 15 internal nodes.\n",
       "\n",
       "Tip labels:\n",
       "  G002719095, G002703645, G002171125, G002731795, G002170735, G002717625, ...\n",
       "Node labels:\n",
       "  75.00, 75.00, 76.00, 99.00, 100.00, 96.00, ...\n",
       "\n",
       "Rooted; includes branch lengths.\n",
       "\n",
       "[[3]]\n",
       "\n",
       "Phylogenetic tree with 18 tips and 17 internal nodes.\n",
       "\n",
       "Tip labels:\n",
       "  G002704045, G002703375, G014381925, G002689995, G030747125, G030748955, ...\n",
       "Node labels:\n",
       "  75.00, 56.00, 38.00, 51.00, 100.00, 100.00, ...\n",
       "\n",
       "Rooted; includes branch lengths.\n",
       "\n",
       "[[4]]\n",
       "\n",
       "Phylogenetic tree with 16 tips and 15 internal nodes.\n",
       "\n",
       "Tip labels:\n",
       "  G014381485, G004124475, G022562455, G002471865, G002402135, G002691365, ...\n",
       "Node labels:\n",
       "  100.00, 62.00, 64.00, 100.00, 100.00, 100.00, ...\n",
       "\n",
       "Rooted; includes branch lengths.\n",
       "\n",
       "[[5]]\n",
       "\n",
       "Phylogenetic tree with 29 tips and 28 internal nodes.\n",
       "\n",
       "Tip labels:\n",
       "  G017856055, G023255095, G902624575, G902629855, G943841495, G943788675, ...\n",
       "Node labels:\n",
       "  100.00, 97.00, 80.00, 100.00, 100.00, 100.00, ...\n",
       "\n",
       "Rooted; includes branch lengths.\n",
       "\n",
       "[[6]]\n",
       "\n",
       "Phylogenetic tree with 19 tips and 18 internal nodes.\n",
       "\n",
       "Tip labels:\n",
       "  G011049095, G029931905, G001577215, G030600775, G002452555, G028716785, ...\n",
       "Node labels:\n",
       "  100.00, 82.00, 64.00, 100.00, 52.00, 100.00, ...\n",
       "\n",
       "Rooted; includes branch lengths.\n",
       "\n",
       "[[7]]\n",
       "\n",
       "Phylogenetic tree with 25 tips and 24 internal nodes.\n",
       "\n",
       "Tip labels:\n",
       "  G003645825, G017656425, G029939575, G016934035, G029939785, G021735285, ...\n",
       "Node labels:\n",
       "  100.00, 100.00, 97.00, 99.00, 100.00, 100.00, ...\n",
       "\n",
       "Rooted; includes branch lengths.\n",
       "\n",
       "[[8]]\n",
       "\n",
       "Phylogenetic tree with 23 tips and 22 internal nodes.\n",
       "\n",
       "Tip labels:\n",
       "  G001872685, G021734065, G021734045, G937888365, G021734255, G021734325, ...\n",
       "Node labels:\n",
       "  79.00, 100.00, 100.00, 69.00, 96.00, 100.00, ...\n",
       "\n",
       "Rooted; includes branch lengths.\n",
       "\n",
       "[[9]]\n",
       "\n",
       "Phylogenetic tree with 8 tips and 7 internal nodes.\n",
       "\n",
       "Tip labels:\n",
       "  G022573815, G022567655, G022571215, G004402895, G004402915, G016784265, ...\n",
       "Node labels:\n",
       "  79.00, 100.00, 94.00, 100.00, 100.00, 64.00, ...\n",
       "\n",
       "Rooted; includes branch lengths.\n",
       "\n",
       "[[10]]\n",
       "\n",
       "Phylogenetic tree with 30 tips and 29 internal nodes.\n",
       "\n",
       "Tip labels:\n",
       "  G030746535, G018651745, G014239435, G002701875, G902581045, G002713455, ...\n",
       "Node labels:\n",
       "  78.00, 100.00, 50.00, 100.00, 96.00, 100.00, ...\n",
       "\n",
       "Rooted; includes branch lengths.\n",
       "\n",
       "[[11]]\n",
       "\n",
       "Phylogenetic tree with 23 tips and 22 internal nodes.\n",
       "\n",
       "Tip labels:\n",
       "  G002717915, G028101095, G002708715, G002691285, G902602795, G002718655, ...\n",
       "Node labels:\n",
       "  100.00, 99.00, 52.00, 50.00, 55.00, 100.00, ...\n",
       "\n",
       "Rooted; includes branch lengths.\n",
       "\n",
       "[[12]]\n",
       "\n",
       "Phylogenetic tree with 14 tips and 13 internal nodes.\n",
       "\n",
       "Tip labels:\n",
       "  G018671775, G018658715, G016784605, G002321855, G012964275, G938092125, ...\n",
       "Node labels:\n",
       "  100.00, 100.00, 100.00, 100.00, 100.00, 100.00, ...\n",
       "\n",
       "Rooted; includes branch lengths.\n",
       "\n",
       "[[13]]\n",
       "\n",
       "Phylogenetic tree with 19 tips and 18 internal nodes.\n",
       "\n",
       "Tip labels:\n",
       "  G001577055, G013203015, G030634675, G013203115, G013203145, G013152315, ...\n",
       "Node labels:\n",
       "  99.00, 77.00, 43.00, 33.00, 77.00, 100.00, ...\n",
       "\n",
       "Rooted; includes branch lengths.\n",
       "\n",
       "[[14]]\n",
       "\n",
       "Phylogenetic tree with 16 tips and 15 internal nodes.\n",
       "\n",
       "Tip labels:\n",
       "  G027251445, G004321715, G002701785, G029936965, G913062595, G913041075, ...\n",
       "Node labels:\n",
       "  99.00, 100.00, 100.00, 94.00, 100.00, 100.00, ...\n",
       "\n",
       "Rooted; includes branch lengths.\n"
      ]
     },
     "metadata": {},
     "output_type": "display_data"
    }
   ],
   "source": [
    "solved_subtree_list"
   ]
  },
  {
   "cell_type": "code",
   "execution_count": 82,
   "metadata": {},
   "outputs": [
    {
     "data": {
      "text/html": [
       "<style>\n",
       ".list-inline {list-style: none; margin:0; padding: 0}\n",
       ".list-inline>li {display: inline-block}\n",
       ".list-inline>li:not(:last-child)::after {content: \"\\00b7\"; padding: 0 .5ex}\n",
       "</style>\n",
       "<ol class=list-inline><li>446</li><li>299</li></ol>\n"
      ],
      "text/latex": [
       "\\begin{enumerate*}\n",
       "\\item 446\n",
       "\\item 299\n",
       "\\end{enumerate*}\n"
      ],
      "text/markdown": [
       "1. 446\n",
       "2. 299\n",
       "\n",
       "\n"
      ],
      "text/plain": [
       "[1] 446 299"
      ]
     },
     "metadata": {},
     "output_type": "display_data"
    }
   ],
   "source": [
    "\n"
   ]
  },
  {
   "cell_type": "code",
   "execution_count": 75,
   "metadata": {},
   "outputs": [
    {
     "data": {
      "text/html": [],
      "text/latex": [],
      "text/markdown": [],
      "text/plain": [
       "     [,1] [,2]"
      ]
     },
     "metadata": {},
     "output_type": "display_data"
    }
   ],
   "source": [
    "subset(tree$edge, tree$edge[, 2] == 1 + length(tree$tip.label))"
   ]
  },
  {
   "cell_type": "code",
   "execution_count": 59,
   "metadata": {},
   "outputs": [
    {
     "data": {
      "text/plain": [
       "\n",
       "Phylogenetic tree with 5 tips and 4 internal nodes.\n",
       "\n",
       "Tip labels:\n",
       "  G022573815, G022567655, G022571215, G004402895, G004402915\n",
       "Node labels:\n",
       "  100.00, 94.00, 100.00, 100.00\n",
       "\n",
       "Rooted; includes branch lengths."
      ]
     },
     "metadata": {},
     "output_type": "display_data"
    }
   ],
   "source": [
    "extract.clade(tree, 268, collapse.singles = TRUE)"
   ]
  },
  {
   "cell_type": "code",
   "execution_count": 77,
   "metadata": {},
   "outputs": [
    {
     "data": {
      "text/plain": [
       "\n",
       "Phylogenetic tree with 261 tips and 260 internal nodes.\n",
       "\n",
       "Tip labels:\n",
       "  G016784265, G018263365, G021734025, G001872685, G021734065, G021734045, ...\n",
       "Node labels:\n",
       "  100.00, 64.00, 100.00, 79.00, 48.00, 100.00, ...\n",
       "\n",
       "Rooted; includes branch lengths."
      ]
     },
     "metadata": {},
     "output_type": "display_data"
    }
   ],
   "source": [
    "extract.clade(tree, , collapse.singles = TRUE)"
   ]
  },
  {
   "cell_type": "code",
   "execution_count": 78,
   "metadata": {},
   "outputs": [
    {
     "data": {
      "text/html": [
       "267"
      ],
      "text/latex": [
       "267"
      ],
      "text/markdown": [
       "267"
      ],
      "text/plain": [
       "[1] 267"
      ]
     },
     "metadata": {},
     "output_type": "display_data"
    }
   ],
   "source": [
    "1 + length(tree$tip.label)"
   ]
  },
  {
   "cell_type": "code",
   "execution_count": null,
   "metadata": {},
   "outputs": [],
   "source": []
  }
 ],
 "metadata": {
  "kernelspec": {
   "display_name": "qgtdb",
   "language": "python",
   "name": "python3"
  },
  "language_info": {
   "codemirror_mode": {
    "name": "ipython",
    "version": 3
   },
   "file_extension": ".py",
   "mimetype": "text/x-python",
   "name": "python",
   "nbconvert_exporter": "python",
   "pygments_lexer": "ipython3",
   "version": "3.9.16"
  }
 },
 "nbformat": 4,
 "nbformat_minor": 2
}
