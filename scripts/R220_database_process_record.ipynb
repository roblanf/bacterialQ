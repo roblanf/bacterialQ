{
 "cells": [
  {
   "cell_type": "markdown",
   "metadata": {},
   "source": [
    "Date: 0512\n",
    "### Run Treeshrink"
   ]
  },
  {
   "cell_type": "code",
   "execution_count": 62,
   "metadata": {
    "vscode": {
     "languageId": "r"
    }
   },
   "outputs": [
    {
     "ename": "ERROR",
     "evalue": "Error in parse(text = x, srcfile = src): <text>:1:8: unexpected symbol\n1: import subprocess\n           ^\n",
     "output_type": "error",
     "traceback": [
      "Error in parse(text = x, srcfile = src): <text>:1:8: unexpected symbol\n1: import subprocess\n           ^\nTraceback:\n"
     ]
    }
   ],
   "source": [
    "import subprocess\n",
    "\n",
    "def run_treeshrink(tree_file):\n",
    "    cmd = [\"run_treeshrink\", \"--tree\", tree_file]\n",
    "    subprocess.run(cmd, capture_output=True, text=True)\n",
    "\n",
    "tree_file = \"/home/tim/project/GTDB_TREE/data/r220/raw_name/bac120_r220_dropped.tree\"\n",
    "run_treeshrink(tree_file)"
   ]
  },
  {
   "cell_type": "markdown",
   "metadata": {},
   "source": [
    "### Check shrinked taxa"
   ]
  },
  {
   "cell_type": "code",
   "execution_count": 1,
   "metadata": {
    "vscode": {
     "languageId": "r"
    }
   },
   "outputs": [
    {
     "name": "stderr",
     "output_type": "stream",
     "text": [
      "\n",
      "Attaching package: ‘dplyr’\n",
      "\n",
      "\n",
      "The following objects are masked from ‘package:stats’:\n",
      "\n",
      "    filter, lag\n",
      "\n",
      "\n",
      "The following objects are masked from ‘package:base’:\n",
      "\n",
      "    intersect, setdiff, setequal, union\n",
      "\n",
      "\n"
     ]
    }
   ],
   "source": [
    "library(dplyr)"
   ]
  },
  {
   "cell_type": "code",
   "execution_count": 2,
   "metadata": {
    "vscode": {
     "languageId": "r"
    }
   },
   "outputs": [
    {
     "data": {
      "text/html": [
       "35"
      ],
      "text/latex": [
       "35"
      ],
      "text/markdown": [
       "35"
      ],
      "text/plain": [
       "[1] 35"
      ]
     },
     "metadata": {},
     "output_type": "display_data"
    }
   ],
   "source": [
    "shrink_file <- \"/home/tim/project/GTDB_TREE/data/r220/raw_name/bac120_r220_dropped_treeshrink/output.txt\"\n",
    "taxa_table <- \"/home/tim/project/GTDB_TREE/data/r220/raw_name/rep_bac120_taxonomy_r220.tsv\"\n",
    "taxa_df <- read.delim(taxa_table, stringsAsFactors = FALSE, sep = \"\\t\")\n",
    "shrinked_taxa <- readLines(shrink_file)\n",
    "shrinked_taxa <- strsplit(shrinked_taxa, \"\\t\")[[1]]\n",
    "length(shrinked_taxa)"
   ]
  },
  {
   "cell_type": "code",
   "execution_count": 6,
   "metadata": {
    "vscode": {
     "languageId": "r"
    }
   },
   "outputs": [],
   "source": [
    "# Summarize data by phylum, sort by descending number of species\n",
    "phylum_summary <- taxa_df %>%\n",
    "    group_by(Phylum) %>%\n",
    "    summarise(\n",
    "        n_species = n(),\n",
    "        .groups = \"drop\"\n",
    "    ) %>%\n",
    "    arrange(desc(n_species))"
   ]
  },
  {
   "cell_type": "code",
   "execution_count": 7,
   "metadata": {
    "vscode": {
     "languageId": "r"
    }
   },
   "outputs": [
    {
     "data": {
      "text/html": [
       "<table class=\"dataframe\">\n",
       "<caption>A tibble: 5 × 2</caption>\n",
       "<thead>\n",
       "\t<tr><th scope=col>Phylum</th><th scope=col>n_drop</th></tr>\n",
       "\t<tr><th scope=col>&lt;chr&gt;</th><th scope=col>&lt;int&gt;</th></tr>\n",
       "</thead>\n",
       "<tbody>\n",
       "\t<tr><td>p__Bacillota_I    </td><td> 4</td></tr>\n",
       "\t<tr><td>p__Bacteroidota   </td><td> 8</td></tr>\n",
       "\t<tr><td>p__Chloroflexota  </td><td> 3</td></tr>\n",
       "\t<tr><td>p__Patescibacteria</td><td>14</td></tr>\n",
       "\t<tr><td>p__Pseudomonadota </td><td> 6</td></tr>\n",
       "</tbody>\n",
       "</table>\n"
      ],
      "text/latex": [
       "A tibble: 5 × 2\n",
       "\\begin{tabular}{ll}\n",
       " Phylum & n\\_drop\\\\\n",
       " <chr> & <int>\\\\\n",
       "\\hline\n",
       "\t p\\_\\_Bacillota\\_I     &  4\\\\\n",
       "\t p\\_\\_Bacteroidota    &  8\\\\\n",
       "\t p\\_\\_Chloroflexota   &  3\\\\\n",
       "\t p\\_\\_Patescibacteria & 14\\\\\n",
       "\t p\\_\\_Pseudomonadota  &  6\\\\\n",
       "\\end{tabular}\n"
      ],
      "text/markdown": [
       "\n",
       "A tibble: 5 × 2\n",
       "\n",
       "| Phylum &lt;chr&gt; | n_drop &lt;int&gt; |\n",
       "|---|---|\n",
       "| p__Bacillota_I     |  4 |\n",
       "| p__Bacteroidota    |  8 |\n",
       "| p__Chloroflexota   |  3 |\n",
       "| p__Patescibacteria | 14 |\n",
       "| p__Pseudomonadota  |  6 |\n",
       "\n"
      ],
      "text/plain": [
       "  Phylum             n_drop\n",
       "1 p__Bacillota_I      4    \n",
       "2 p__Bacteroidota     8    \n",
       "3 p__Chloroflexota    3    \n",
       "4 p__Patescibacteria 14    \n",
       "5 p__Pseudomonadota   6    "
      ]
     },
     "metadata": {},
     "output_type": "display_data"
    }
   ],
   "source": [
    "shrinked_df <- taxa_df %>% filter(ID %in% shrinked_taxa)\n",
    "shrink_summary <- shrinked_df %>% group_by(Phylum) %>% summarise(n_drop = n())\n",
    "shrink_summary"
   ]
  },
  {
   "cell_type": "code",
   "execution_count": 8,
   "metadata": {
    "vscode": {
     "languageId": "r"
    }
   },
   "outputs": [
    {
     "data": {
      "text/html": [
       "<table class=\"dataframe\">\n",
       "<caption>A tibble: 5 × 3</caption>\n",
       "<thead>\n",
       "\t<tr><th scope=col>Phylum</th><th scope=col>n_drop</th><th scope=col>n_species</th></tr>\n",
       "\t<tr><th scope=col>&lt;chr&gt;</th><th scope=col>&lt;int&gt;</th><th scope=col>&lt;int&gt;</th></tr>\n",
       "</thead>\n",
       "<tbody>\n",
       "\t<tr><td>p__Bacillota_I    </td><td> 4</td><td> 2903</td></tr>\n",
       "\t<tr><td>p__Bacteroidota   </td><td> 8</td><td>14787</td></tr>\n",
       "\t<tr><td>p__Chloroflexota  </td><td> 3</td><td> 2749</td></tr>\n",
       "\t<tr><td>p__Patescibacteria</td><td>14</td><td> 4581</td></tr>\n",
       "\t<tr><td>p__Pseudomonadota </td><td> 6</td><td>27962</td></tr>\n",
       "</tbody>\n",
       "</table>\n"
      ],
      "text/latex": [
       "A tibble: 5 × 3\n",
       "\\begin{tabular}{lll}\n",
       " Phylum & n\\_drop & n\\_species\\\\\n",
       " <chr> & <int> & <int>\\\\\n",
       "\\hline\n",
       "\t p\\_\\_Bacillota\\_I     &  4 &  2903\\\\\n",
       "\t p\\_\\_Bacteroidota    &  8 & 14787\\\\\n",
       "\t p\\_\\_Chloroflexota   &  3 &  2749\\\\\n",
       "\t p\\_\\_Patescibacteria & 14 &  4581\\\\\n",
       "\t p\\_\\_Pseudomonadota  &  6 & 27962\\\\\n",
       "\\end{tabular}\n"
      ],
      "text/markdown": [
       "\n",
       "A tibble: 5 × 3\n",
       "\n",
       "| Phylum &lt;chr&gt; | n_drop &lt;int&gt; | n_species &lt;int&gt; |\n",
       "|---|---|---|\n",
       "| p__Bacillota_I     |  4 |  2903 |\n",
       "| p__Bacteroidota    |  8 | 14787 |\n",
       "| p__Chloroflexota   |  3 |  2749 |\n",
       "| p__Patescibacteria | 14 |  4581 |\n",
       "| p__Pseudomonadota  |  6 | 27962 |\n",
       "\n"
      ],
      "text/plain": [
       "  Phylum             n_drop n_species\n",
       "1 p__Bacillota_I      4      2903    \n",
       "2 p__Bacteroidota     8     14787    \n",
       "3 p__Chloroflexota    3      2749    \n",
       "4 p__Patescibacteria 14      4581    \n",
       "5 p__Pseudomonadota   6     27962    "
      ]
     },
     "metadata": {},
     "output_type": "display_data"
    }
   ],
   "source": [
    "left_join(shrink_summary,phylum_summary,\"Phylum\")"
   ]
  },
  {
   "cell_type": "markdown",
   "metadata": {},
   "source": [
    "### Generate new taxa_df"
   ]
  },
  {
   "cell_type": "code",
   "execution_count": 48,
   "metadata": {
    "vscode": {
     "languageId": "r"
    }
   },
   "outputs": [],
   "source": [
    "taxa_df <- taxa_df %>% filter(!(ID %in% shrinked_taxa))\n",
    "taxa_table_shrinked <- \"/home/tim/project/GTDB_TREE/data/r220/raw_name/rep_bac120_taxonomy_r220_shrinked.tsv\"\n",
    "write.table(taxa_df,file = taxa_table_shrinked,sep = \"\\t\",quote = FALSE, row.names = FALSE) "
   ]
  },
  {
   "cell_type": "markdown",
   "metadata": {
    "vscode": {
     "languageId": "r"
    }
   },
   "source": [
    "### Shorten taxa name"
   ]
  },
  {
   "cell_type": "code",
   "execution_count": 49,
   "metadata": {
    "vscode": {
     "languageId": "r"
    }
   },
   "outputs": [],
   "source": [
    "taxa_df$ID <- sub(\".*_(.*)\\\\..*\", \"G\\\\1\", taxa_df$ID)"
   ]
  },
  {
   "cell_type": "code",
   "execution_count": 50,
   "metadata": {
    "vscode": {
     "languageId": "r"
    }
   },
   "outputs": [
    {
     "name": "stderr",
     "output_type": "stream",
     "text": [
      "\u001b[1m\u001b[22mStoring counts in `nn`, as `n` already present in input\n",
      "\u001b[36mℹ\u001b[39m Use `name = \"new_name\"` to pick a new name.\n"
     ]
    },
    {
     "data": {
      "text/html": [
       "<table class=\"dataframe\">\n",
       "<caption>A data.frame: 1 × 2</caption>\n",
       "<thead>\n",
       "\t<tr><th scope=col>n</th><th scope=col>nn</th></tr>\n",
       "\t<tr><th scope=col>&lt;int&gt;</th><th scope=col>&lt;int&gt;</th></tr>\n",
       "</thead>\n",
       "<tbody>\n",
       "\t<tr><td>1</td><td>107186</td></tr>\n",
       "</tbody>\n",
       "</table>\n"
      ],
      "text/latex": [
       "A data.frame: 1 × 2\n",
       "\\begin{tabular}{ll}\n",
       " n & nn\\\\\n",
       " <int> & <int>\\\\\n",
       "\\hline\n",
       "\t 1 & 107186\\\\\n",
       "\\end{tabular}\n"
      ],
      "text/markdown": [
       "\n",
       "A data.frame: 1 × 2\n",
       "\n",
       "| n &lt;int&gt; | nn &lt;int&gt; |\n",
       "|---|---|\n",
       "| 1 | 107186 |\n",
       "\n"
      ],
      "text/plain": [
       "  n nn    \n",
       "1 1 107186"
      ]
     },
     "metadata": {},
     "output_type": "display_data"
    }
   ],
   "source": [
    "taxa_df %>% count(ID) %>% count(n)"
   ]
  },
  {
   "cell_type": "code",
   "execution_count": 57,
   "metadata": {
    "vscode": {
     "languageId": "r"
    }
   },
   "outputs": [],
   "source": [
    "taxa_table_new <- \"/home/tim/project/GTDB_TREE/data/r220/rep_bac120_taxonomy.tsv\"\n",
    "write.table(taxa_df,file = taxa_table_new,sep = \"\\t\",quote = FALSE, row.names = FALSE) "
   ]
  },
  {
   "cell_type": "code",
   "execution_count": 58,
   "metadata": {
    "vscode": {
     "languageId": "r"
    }
   },
   "outputs": [],
   "source": [
    "library(ape)\n",
    "old_tree <- read.tree(\"/home/tim/project/GTDB_TREE/data/r220/raw_name/bac120_r220_dropped.tree\")"
   ]
  },
  {
   "cell_type": "code",
   "execution_count": 59,
   "metadata": {
    "vscode": {
     "languageId": "r"
    }
   },
   "outputs": [],
   "source": [
    "new_tree <- drop.tip(old_tree, shrinked_taxa)"
   ]
  },
  {
   "cell_type": "code",
   "execution_count": 60,
   "metadata": {
    "vscode": {
     "languageId": "r"
    }
   },
   "outputs": [],
   "source": [
    "new_tree$tip.label <- sub(\".*_(.*)\\\\..*\", \"G\\\\1\", new_tree$tip.label)"
   ]
  },
  {
   "cell_type": "code",
   "execution_count": 61,
   "metadata": {
    "vscode": {
     "languageId": "r"
    }
   },
   "outputs": [
    {
     "data": {
      "text/html": [
       "FALSE"
      ],
      "text/latex": [
       "FALSE"
      ],
      "text/markdown": [
       "FALSE"
      ],
      "text/plain": [
       "[1] FALSE"
      ]
     },
     "metadata": {},
     "output_type": "display_data"
    }
   ],
   "source": [
    "species_in_table <- taxa_df %>% pull(ID)\n",
    "species_in_tree <- new_tree$tip.label\n",
    "setequal(species_in_table, species_in_tree)"
   ]
  },
  {
   "cell_type": "code",
   "execution_count": 62,
   "metadata": {
    "vscode": {
     "languageId": "r"
    }
   },
   "outputs": [
    {
     "data": {
      "text/html": [
       "0"
      ],
      "text/latex": [
       "0"
      ],
      "text/markdown": [
       "0"
      ],
      "text/plain": [
       "[1] 0"
      ]
     },
     "metadata": {},
     "output_type": "display_data"
    }
   ],
   "source": [
    "length(setdiff(species_in_table, species_in_tree))"
   ]
  },
  {
   "cell_type": "code",
   "execution_count": 63,
   "metadata": {
    "vscode": {
     "languageId": "r"
    }
   },
   "outputs": [
    {
     "data": {
      "text/html": [],
      "text/latex": [],
      "text/markdown": [],
      "text/plain": [
       "character(0)"
      ]
     },
     "metadata": {},
     "output_type": "display_data"
    },
    {
     "data": {
      "text/html": [
       "'G026989995'"
      ],
      "text/latex": [
       "'G026989995'"
      ],
      "text/markdown": [
       "'G026989995'"
      ],
      "text/plain": [
       "[1] \"G026989995\""
      ]
     },
     "metadata": {},
     "output_type": "display_data"
    }
   ],
   "source": [
    "setdiff(species_in_table, species_in_tree)\n",
    "setdiff(species_in_tree, species_in_table)"
   ]
  },
  {
   "cell_type": "code",
   "execution_count": 65,
   "metadata": {
    "vscode": {
     "languageId": "r"
    }
   },
   "outputs": [],
   "source": [
    "new_tree <- drop.tip(new_tree, \"G026989995\")"
   ]
  },
  {
   "cell_type": "code",
   "execution_count": 66,
   "metadata": {
    "vscode": {
     "languageId": "r"
    }
   },
   "outputs": [],
   "source": [
    "write.tree(new_tree, \"/home/tim/project/GTDB_TREE/data/r220/bac120_r220.tree\")"
   ]
  },
  {
   "cell_type": "code",
   "execution_count": 67,
   "metadata": {
    "vscode": {
     "languageId": "r"
    }
   },
   "outputs": [],
   "source": [
    "writeLines(new_tree$tip.label, \"/home/tim/project/GTDB_TREE/data/r220/taxa_list.txt\")"
   ]
  },
  {
   "cell_type": "markdown",
   "metadata": {},
   "source": [
    "### Rename taxa for alignment files"
   ]
  },
  {
   "cell_type": "code",
   "execution_count": 1,
   "metadata": {
    "vscode": {
     "languageId": "r"
    }
   },
   "outputs": [],
   "source": [
    "alignment_dir = \"/home/tim/project/GTDB_TREE/alignment/raw_r220/individual\"\n",
    "output_dir = \"/home/tim/project/GTDB_TREE/alignment/r220/individual\""
   ]
  },
  {
   "cell_type": "code",
   "execution_count": 2,
   "metadata": {
    "vscode": {
     "languageId": "r"
    }
   },
   "outputs": [],
   "source": [
    "import os\n",
    "import re\n",
    "\n",
    "def modify_taxa_name(input_folder, output_folder):\n",
    "    if not os.path.exists(output_folder):\n",
    "        os.makedirs(output_folder)\n",
    "\n",
    "    for filename in os.listdir(input_folder):\n",
    "        if filename.endswith('.fna') or filename.endswith('.faa') or filename.endswith('.fasta'):\n",
    "            with open(os.path.join(input_folder, filename), 'r') as infile, \\\n",
    "                 open(os.path.join(output_folder, filename), 'w') as outfile:\n",
    "                for line in infile:\n",
    "                    if line.startswith('>'):\n",
    "                        line = re.sub(r\".*_(.*)\\..*\", r\">G\\1\", line)\n",
    "                    outfile.write(line)\n"
   ]
  },
  {
   "cell_type": "code",
   "execution_count": 3,
   "metadata": {
    "vscode": {
     "languageId": "r"
    }
   },
   "outputs": [],
   "source": [
    "# modify_taxa_name(alignment_dir, output_dir)"
   ]
  },
  {
   "cell_type": "markdown",
   "metadata": {},
   "source": [
    "### Prune alignment"
   ]
  },
  {
   "cell_type": "code",
   "execution_count": 19,
   "metadata": {
    "vscode": {
     "languageId": "r"
    }
   },
   "outputs": [],
   "source": [
    "import sys\n",
    "from pathlib import Path\n",
    "sys.path.append('./small_func')\n",
    "from sample_alignment import *\n",
    "\n",
    "loci_dir = Path(\"/home/tim/project/GTDB_TREE/alignment/r220/individual\")\n",
    "taxa_list = Path(\"/home/tim/project/GTDB_TREE/data/r220/taxa_list.txt\")\n",
    "output_folder = Path(\"/home/tim/project/GTDB_TREE/alignment/r220/pruned_alignments\")"
   ]
  },
  {
   "cell_type": "code",
   "execution_count": 20,
   "metadata": {
    "vscode": {
     "languageId": "r"
    }
   },
   "outputs": [
    {
     "name": "stdout",
     "output_type": "stream",
     "text": [
      "Sampling alignments...\n",
      "Input a single taxa file: /home/tim/project/GTDB_TREE/data/r220/taxa_list.txt. Sampling sequences for 120 loci.\n",
      "Number of input species: 107186\n",
      "Remaining 120 alignments. Deleted 0 alignments.\n"
     ]
    }
   ],
   "source": [
    "sample_alignment(loci_dir, taxa_list, output_folder)"
   ]
  },
  {
   "cell_type": "markdown",
   "metadata": {},
   "source": [
    "### Spilt training and testing loci"
   ]
  },
  {
   "cell_type": "code",
   "execution_count": 24,
   "metadata": {
    "vscode": {
     "languageId": "r"
    }
   },
   "outputs": [],
   "source": [
    "import os\n",
    "import shutil\n",
    "import random\n",
    "\n",
    "def split_files(src_dir, train_num):\n",
    "    files = os.listdir(src_dir)\n",
    "    random.shuffle(files)\n",
    "\n",
    "    train_dir = os.path.join(os.path.dirname(src_dir), 'train')\n",
    "    test_dir = os.path.join(os.path.dirname(src_dir), 'test')\n",
    "    os.makedirs(train_dir, exist_ok=True)\n",
    "    os.makedirs(test_dir, exist_ok=True)\n",
    "    \n",
    "    for i, file in enumerate(files):\n",
    "        src_file = os.path.join(src_dir, file)\n",
    "        if i < train_num:\n",
    "            dst_file = os.path.join(train_dir, file)\n",
    "        else:\n",
    "            dst_file = os.path.join(test_dir, file)\n",
    "        shutil.move(src_file, dst_file)\n",
    "    shutil.rmtree(src_dir)\n"
   ]
  },
  {
   "cell_type": "code",
   "execution_count": 25,
   "metadata": {
    "vscode": {
     "languageId": "r"
    }
   },
   "outputs": [
    {
     "ename": "FileNotFoundError",
     "evalue": "[Errno 2] No such file or directory: '/home/tim/project/GTDB_TREE/alignment/r220/pruned_alignments'",
     "output_type": "error",
     "traceback": [
      "\u001b[0;31m---------------------------------------------------------------------------\u001b[0m",
      "\u001b[0;31mFileNotFoundError\u001b[0m                         Traceback (most recent call last)",
      "Cell \u001b[0;32mIn[25], line 1\u001b[0m\n\u001b[0;32m----> 1\u001b[0m \u001b[43msplit_files\u001b[49m\u001b[43m(\u001b[49m\u001b[43moutput_folder\u001b[49m\u001b[43m,\u001b[49m\u001b[43m \u001b[49m\u001b[38;5;241;43m100\u001b[39;49m\u001b[43m)\u001b[49m\n",
      "Cell \u001b[0;32mIn[24], line 6\u001b[0m, in \u001b[0;36msplit_files\u001b[0;34m(src_dir, train_num)\u001b[0m\n\u001b[1;32m      5\u001b[0m \u001b[38;5;28;01mdef\u001b[39;00m \u001b[38;5;21msplit_files\u001b[39m(src_dir, train_num):\n\u001b[0;32m----> 6\u001b[0m     files \u001b[38;5;241m=\u001b[39m \u001b[43mos\u001b[49m\u001b[38;5;241;43m.\u001b[39;49m\u001b[43mlistdir\u001b[49m\u001b[43m(\u001b[49m\u001b[43msrc_dir\u001b[49m\u001b[43m)\u001b[49m\n\u001b[1;32m      7\u001b[0m     random\u001b[38;5;241m.\u001b[39mshuffle(files)\n\u001b[1;32m      9\u001b[0m     train_dir \u001b[38;5;241m=\u001b[39m os\u001b[38;5;241m.\u001b[39mpath\u001b[38;5;241m.\u001b[39mjoin(os\u001b[38;5;241m.\u001b[39mpath\u001b[38;5;241m.\u001b[39mdirname(src_dir), \u001b[38;5;124m'\u001b[39m\u001b[38;5;124mtraining\u001b[39m\u001b[38;5;124m'\u001b[39m)\n",
      "\u001b[0;31mFileNotFoundError\u001b[0m: [Errno 2] No such file or directory: '/home/tim/project/GTDB_TREE/alignment/r220/pruned_alignments'"
     ]
    }
   ],
   "source": [
    "split_files(output_folder, 100)"
   ]
  },
  {
   "cell_type": "markdown",
   "metadata": {},
   "source": [
    "### Generate integrity check table"
   ]
  },
  {
   "cell_type": "code",
   "execution_count": null,
   "metadata": {
    "vscode": {
     "languageId": "r"
    }
   },
   "outputs": [],
   "source": [
    "import subprocess\n",
    "import os\n",
    "from quality_trimming import generate_combined_df\n",
    "\n",
    "train_loc_path = \"/home/tim/project/GTDB_TREE/alignment/r220/train\"\n",
    "test_loc_path = \"/home/tim/project/GTDB_TREE/alignment/r220/test\"\n",
    "taxa_file = \"/home/tim/project/GTDB_TREE/data/r220/rep_bac120_taxonomy.tsv\"\n",
    "output_dir = \"../data/r220\"\n",
    "\n",
    "# for test\n",
    "# train_loc_path = \"/mnt/data/dayhoff/home/u7457359/project/GTDB/GTDB_TREE/Result/p__Actinobacteriota_200/p__Actinobacteriota_200_002/loci/training_loci\"\n",
    "# test_loc_path = \"/mnt/data/dayhoff/home/u7457359/project/GTDB/GTDB_TREE/Result/p__Actinobacteriota_200/p__Actinobacteriota_200_002/loci/testing_loci\"\n",
    "\n",
    "generate_combined_df(train_loc_path, test_loc_path, taxa_file, output_dir)"
   ]
  },
  {
   "cell_type": "code",
   "execution_count": null,
   "metadata": {
    "vscode": {
     "languageId": "r"
    }
   },
   "outputs": [],
   "source": []
  }
 ],
 "metadata": {
  "kernelspec": {
   "display_name": "R",
   "language": "R",
   "name": "ir"
  },
  "language_info": {
   "codemirror_mode": "r",
   "file_extension": ".r",
   "mimetype": "text/x-r-source",
   "name": "R",
   "pygments_lexer": "r",
   "version": "4.3.1"
  }
 },
 "nbformat": 4,
 "nbformat_minor": 4
}
