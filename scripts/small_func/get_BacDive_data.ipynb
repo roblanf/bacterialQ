{
 "cells": [
  {
   "cell_type": "code",
   "execution_count": 3,
   "metadata": {},
   "outputs": [],
   "source": [
    "import bacdive"
   ]
  },
  {
   "cell_type": "code",
   "execution_count": 60,
   "metadata": {},
   "outputs": [
    {
     "name": "stdout",
     "output_type": "stream",
     "text": [
      "-- Authentication successful --\n",
      "1 strains found.\n"
     ]
    }
   ],
   "source": [
    "\n",
    "def search_strains_by_16s_ncbi_tax_id(email, password, ncbi_tax_id):\n",
    "    # Initialize the BacDive client with your login credentials\n",
    "    client = bacdive.BacdiveClient(email, password)\n",
    "    \n",
    "    # Set the search type to 'exact' (default)\n",
    "    client.setSearchType('exact')\n",
    "    \n",
    "    # Define the query to search by 16S sequence accession number\n",
    "    query = {\"16s\": ncbi_tax_id}\n",
    "    \n",
    "    # Perform the search\n",
    "    count = client.search(**query)\n",
    "    print(f\"{count} strains found.\")\n",
    "    \n",
    "    return client.retrieve(), count\n",
    "# Example usage\n",
    "email =\n",
    "password = \n",
    "ncbi_tax_id = 'AF072581'  # Replace with your desired 16S sequence NCBI tax ID\n",
    "results, count = search_strains_by_16s_ncbi_tax_id(email, password, ncbi_tax_id)\n"
   ]
  },
  {
   "cell_type": "code",
   "execution_count": 62,
   "metadata": {},
   "outputs": [
    {
     "name": "stdout",
     "output_type": "stream",
     "text": [
      "17769\n"
     ]
    }
   ],
   "source": [
    "links = []\n",
    "for i in results:\n",
    "    bacdive_id = i[\"General\"][\"BacDive-ID\"]\n",
    "    print(bacdive_id)\n",
    "    link = \"https://bacdive.dsmz.de/strain/\" + str(bacdive_id)\n",
    "    links.append(link)"
   ]
  },
  {
   "cell_type": "code",
   "execution_count": 66,
   "metadata": {},
   "outputs": [
    {
     "name": "stdout",
     "output_type": "stream",
     "text": [
      "                           Trait           Model Prediction Confidence in %  \\\n",
      "0            None           None            None       None            None   \n",
      "1  [Ref.: #69481]  spore-forming  spore-formingⓘ        yes              72   \n",
      "2            None           None            None       None            None   \n",
      "3  [Ref.: #69480]  gram-positive  gram-positiveⓘ         no          85.274   \n",
      "4  [Ref.: #69480]      anaerobic      anaerobicⓘ        yes          91.382   \n",
      "5  [Ref.: #69480]        aerobic        aerobicⓘ         no          93.198   \n",
      "6  [Ref.: #69480]  spore-forming  spore-formingⓘ         no          70.625   \n",
      "7  [Ref.: #69480]   thermophilic    thermophileⓘ         no          74.909   \n",
      "8  [Ref.: #69480]    flagellated       motile2+ⓘ        yes          66.844   \n",
      "\n",
      "  In training data  \n",
      "0             None  \n",
      "1               no  \n",
      "2             None  \n",
      "3               no  \n",
      "4              yes  \n",
      "5               no  \n",
      "6               no  \n",
      "7              yes  \n",
      "8               no  \n"
     ]
    }
   ],
   "source": [
    "import requests\n",
    "import pandas as pd\n",
    "from bs4 import BeautifulSoup\n",
    "\n",
    "def extract_and_merge_tables(url):\n",
    "    # 获取网页内容\n",
    "    response = requests.get(url)\n",
    "    response.raise_for_status()  # 检查请求是否成功\n",
    "    \n",
    "    # 使用BeautifulSoup解析HTML内容\n",
    "    soup = BeautifulSoup(response.content, 'html.parser')\n",
    "    \n",
    "    # 找到所有表格\n",
    "    tables = soup.find_all('table', {'id': 'predictions_table'})\n",
    "    \n",
    "    # 初始化一个空的DataFrame列表\n",
    "    df_list = []\n",
    "    \n",
    "    # 遍历每个表格并提取内容\n",
    "    for table in tables:\n",
    "        # 提取表头\n",
    "        headers = [header.text for header in table.find_all('th')]\n",
    "        \n",
    "        # 提取表格内容\n",
    "        rows = []\n",
    "        for row in table.find_all('tr')[1:]:  # 跳过表头行\n",
    "            cells = row.find_all('td')\n",
    "            rows.append([cell.text for cell in cells])\n",
    "        \n",
    "        # 创建DataFrame并添加到列表中\n",
    "        df = pd.DataFrame(rows, columns=headers)\n",
    "        df_list.append(df)\n",
    "    \n",
    "    # 合并所有DataFrame\n",
    "    merged_df = pd.concat(df_list, ignore_index=True)\n",
    "    \n",
    "    return merged_df\n",
    "\n",
    "# 示例用法\n",
    "url = link\n",
    "df = extract_and_merge_tables(url)\n",
    "print(df)\n"
   ]
  },
  {
   "cell_type": "code",
   "execution_count": 69,
   "metadata": {},
   "outputs": [
    {
     "name": "stdout",
     "output_type": "stream",
     "text": [
      "-- Authentication successful --\n",
      "ERROR: The given query type is not allowed. Please choose one of the following:\n",
      "id, taxonomy, sequence, genome, 16s, culturecolno\n"
     ]
    },
    {
     "data": {
      "text/plain": [
       "0"
      ]
     },
     "execution_count": 69,
     "metadata": {},
     "output_type": "execute_result"
    }
   ],
   "source": [
    "client = bacdive.BacdiveClient(email, password)\n",
    "    \n",
    "# Set the search type to 'exact' (default)\n",
    "client.setSearchType('exact')\n",
    "query = {\"predictions\": 1}\n",
    "client.search(**query)"
   ]
  },
  {
   "cell_type": "code",
   "execution_count": null,
   "metadata": {},
   "outputs": [],
   "source": []
  }
 ],
 "metadata": {
  "kernelspec": {
   "display_name": "qgtdb",
   "language": "python",
   "name": "python3"
  },
  "language_info": {
   "codemirror_mode": {
    "name": "ipython",
    "version": 3
   },
   "file_extension": ".py",
   "mimetype": "text/x-python",
   "name": "python",
   "nbconvert_exporter": "python",
   "pygments_lexer": "ipython3",
   "version": "3.9.16"
  }
 },
 "nbformat": 4,
 "nbformat_minor": 2
}
