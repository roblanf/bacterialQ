{
 "cells": [
  {
   "cell_type": "code",
   "execution_count": 1,
   "metadata": {
    "vscode": {
     "languageId": "r"
    }
   },
   "outputs": [
    {
     "name": "stderr",
     "output_type": "stream",
     "text": [
      "── \u001b[1mAttaching core tidyverse packages\u001b[22m ──────────────────────── tidyverse 2.0.0 ──\n",
      "\u001b[32m✔\u001b[39m \u001b[34mdplyr    \u001b[39m 1.1.4     \u001b[32m✔\u001b[39m \u001b[34mreadr    \u001b[39m 2.1.5\n",
      "\u001b[32m✔\u001b[39m \u001b[34mforcats  \u001b[39m 1.0.0     \u001b[32m✔\u001b[39m \u001b[34mstringr  \u001b[39m 1.5.1\n",
      "\u001b[32m✔\u001b[39m \u001b[34mggplot2  \u001b[39m 3.5.1     \u001b[32m✔\u001b[39m \u001b[34mtibble   \u001b[39m 3.2.1\n",
      "\u001b[32m✔\u001b[39m \u001b[34mlubridate\u001b[39m 1.9.3     \u001b[32m✔\u001b[39m \u001b[34mtidyr    \u001b[39m 1.3.1\n",
      "\u001b[32m✔\u001b[39m \u001b[34mpurrr    \u001b[39m 1.0.2     \n",
      "── \u001b[1mConflicts\u001b[22m ────────────────────────────────────────── tidyverse_conflicts() ──\n",
      "\u001b[31m✖\u001b[39m \u001b[34mdplyr\u001b[39m::\u001b[32mfilter()\u001b[39m masks \u001b[34mstats\u001b[39m::filter()\n",
      "\u001b[31m✖\u001b[39m \u001b[34mdplyr\u001b[39m::\u001b[32mlag()\u001b[39m    masks \u001b[34mstats\u001b[39m::lag()\n",
      "\u001b[36mℹ\u001b[39m Use the conflicted package (\u001b[3m\u001b[34m<http://conflicted.r-lib.org/>\u001b[39m\u001b[23m) to force all conflicts to become errors\n",
      "\u001b[1mRows: \u001b[22m\u001b[34m107186\u001b[39m \u001b[1mColumns: \u001b[22m\u001b[34m19\u001b[39m\n",
      "\u001b[36m──\u001b[39m \u001b[1mColumn specification\u001b[22m \u001b[36m────────────────────────────────────────────────────────\u001b[39m\n",
      "\u001b[1mDelimiter:\u001b[22m \"\\t\"\n",
      "\u001b[31mchr\u001b[39m (14): ID, gtdb_taxonomy, gtdb_type_designation_ncbi_taxa, gtdb_type_desi...\n",
      "\u001b[32mdbl\u001b[39m  (5): checkm_strain_heterogeneity, coding_density, gc_percentage, genome...\n",
      "\n",
      "\u001b[36mℹ\u001b[39m Use `spec()` to retrieve the full column specification for this data.\n",
      "\u001b[36mℹ\u001b[39m Specify the column types or set `show_col_types = FALSE` to quiet this message.\n"
     ]
    }
   ],
   "source": [
    "\n",
    "library(tidyverse)\n",
    "\n",
    "input_file <- \"/home/tim/project/bacterialQ/data/r220/filtered_genome_info.tsv\"\n",
    "data <- read_tsv(input_file)\n",
    "\n",
    "phylum_info <- data %>%\n",
    "  select(ID, gtdb_taxonomy, ncbi_taxonomy) %>%\n",
    "  separate(gtdb_taxonomy, into = c(\"domain\", \"gtdb_phylum\", \"class\", \"order\", \"family\", \"genus\", \"species\"), sep = \";\") %>%\n",
    "  separate(ncbi_taxonomy, into = c(\"domain\", \"ncbi_phylum\", \"class\", \"order\", \"family\", \"genus\", \"species\"), sep = \";\") %>%\n",
    "  select(ID, gtdb_phylum, ncbi_phylum)\n",
    "\n",
    "output_file_1 <- \"/home/tim/project/bacterialQ/data/r220/GTDB_NCBI_phylum_info.csv\"\n",
    "write_csv(phylum_info, output_file_1)\n",
    "\n",
    "phylum_composition <- phylum_info %>%\n",
    "  group_by(gtdb_phylum) %>%\n",
    "  count(ncbi_phylum) %>%\n",
    "  mutate(percent = n / sum(n) * 100) %>%\n",
    "  summarise(ncbi_phylum_composition = paste(ncbi_phylum, sprintf(\"%.2f%%\", percent), sep = \" \", collapse = \" + \"))\n",
    "  \n",
    "output_file_2 <- \"/home/tim/project/bacterialQ/data/r220/GTDB_NCBI_phylum_composition.csv\"\n",
    "write_csv(phylum_composition, output_file_2)\n"
   ]
  },
  {
   "cell_type": "code",
   "execution_count": null,
   "metadata": {
    "vscode": {
     "languageId": "r"
    }
   },
   "outputs": [],
   "source": []
  }
 ],
 "metadata": {
  "kernelspec": {
   "display_name": "R",
   "language": "R",
   "name": "ir"
  },
  "language_info": {
   "codemirror_mode": "r",
   "file_extension": ".r",
   "mimetype": "text/x-r-source",
   "name": "R",
   "pygments_lexer": "r",
   "version": "4.2.3"
  }
 },
 "nbformat": 4,
 "nbformat_minor": 2
}
