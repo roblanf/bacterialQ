{
 "cells": [
  {
   "cell_type": "markdown",
   "metadata": {},
   "source": [
    "Help me write an meta info reader in python. Use a class to define the meta info reader. The class should have\n",
    "the following methods:\n",
    "- While read single meta file, set the name to None\n",
    "- value:name. method to create name of a meta file with its properties, for example: If the meta file have properity num_aln, taxa_name, and I could use set_name(self, rule), while rule is \"{num_aln}_{taxa_name}\"\n",
    "- value:path. when appling the class, record the absolute path of the meta file.\n",
    "Another class to manage a set of meta files:\n",
    "- method to link a list of meta info files\n",
    "- method to read specific property from all meta files to form a dictionary\n",
    "- method to read specific properties from all meta files to form a table\n",
    "- method to rejoin the meta files into a new meta file, with every single properity was mapping into a dictionary with {metafilename: metafilevalue} (But here we don't require all the meta files to have the same propertiy, so just join that with existing values, and also have a parameter \"force\" to set those not existing meta file's value to None. And a parameter \"record_path\", to add value:path as a new property of the metafile). At the end, the new metafile's format would like {properity1:{metafile1:properity1_value_in_metafile1, metafile2:properity1_value_in_metafile2,metafile3:properity1_value_in_metafile3}, properity2:{metafile1:properity2_value_in_metafile1, metafile2:properity2_value_in_metafile2,metafile3:properity2_value_in_metafile3}}"
   ]
  },
  {
   "cell_type": "code",
   "execution_count": 59,
   "metadata": {},
   "outputs": [],
   "source": [
    "import os\n",
    "import json\n",
    "\n",
    "class MetaInfoReader:\n",
    "    def __init__(self, file_path):\n",
    "        self.file_path = os.path.abspath(file_path)\n",
    "        self.name = None\n",
    "        self.properties = self._read_properties()\n",
    "\n",
    "    def _read_properties(self):\n",
    "        # Read the JSON file and load it as a dictionary\n",
    "        with open(self.file_path, 'r') as file:\n",
    "            properties = json.load(file)\n",
    "        return properties\n",
    "\n",
    "    def set_name(self, rule):\n",
    "        try:\n",
    "            self.name = rule.format(**self.properties)\n",
    "        except KeyError as e:\n",
    "            print(f\"Error: Missing property {e} for naming rule.\")\n",
    "\n",
    "    def get_property(self, property_name):\n",
    "        return self.properties.get(property_name)\n",
    "\n",
    "    def __repr__(self):\n",
    "        return f\"MetaInfoReader(name={self.name}, path={self.file_path})\"\n",
    "\n",
    "class MetaInfoManager:\n",
    "    def __init__(self):\n",
    "        self.meta_files = []\n",
    "\n",
    "    def add_meta_file(self, meta_info_reader):\n",
    "        self.meta_files.append(meta_info_reader)\n",
    "\n",
    "    def add_meta_files(self, meta_info_readers):\n",
    "        self.meta_files.extend(meta_info_readers)\n",
    "\n",
    "    def get_property_dict(self, property_name):\n",
    "        property_dict = {}\n",
    "        for meta_file in self.meta_files:\n",
    "            property_dict[meta_file.name] = meta_file.get_property(property_name)\n",
    "        return property_dict\n",
    "\n",
    "    def get_property_table(self, property_names):\n",
    "        table = {}\n",
    "        for meta_file in self.meta_files:\n",
    "            row = {prop: meta_file.get_property(prop) for prop in property_names}\n",
    "            table[meta_file.name] = row\n",
    "        return table\n",
    "\n",
    "    def rejoin_meta_files(self, force=False, record_path=False):\n",
    "        merged_properties = {}\n",
    "        for meta_file in self.meta_files:\n",
    "            for key, value in meta_file.properties.items():\n",
    "                if key not in merged_properties:\n",
    "                    merged_properties[key] = {}\n",
    "                merged_properties[key][meta_file.name] = value\n",
    "    \n",
    "        # Set missing properties to None if force=True\n",
    "        if force:\n",
    "            all_keys = set(merged_properties.keys())\n",
    "            for meta_file in self.meta_files:\n",
    "                for key in all_keys:\n",
    "                    if key not in meta_file.properties:\n",
    "                        merged_properties[key][meta_file.name] = None\n",
    "    \n",
    "        if record_path:\n",
    "            merged_properties['path'] = {}\n",
    "            for meta_file in self.meta_files:\n",
    "                merged_properties['path'][meta_file.name] = meta_file.file_path\n",
    "\n",
    "\n",
    "        return merged_properties\n"
   ]
  },
  {
   "cell_type": "code",
   "execution_count": 60,
   "metadata": {},
   "outputs": [],
   "source": [
    "file1 = MetaInfoReader('/home/tim/project/bacterialQ/Result_nova/method_test/p__Acidobacteriota/free_subtree_topo/p__Acidobacteriota_100_1500/meta.json')\n",
    "file2 = MetaInfoReader('/home/tim/project/bacterialQ/Result_nova/method_test/p__Acidobacteriota/free_subtree_topo/p__Acidobacteriota_150_1000/meta.json')\n",
    "\n",
    "# Set a custom name for the meta file using its properties\n",
    "file1.set_name(\"{num_aln}_{taxa_name}\")\n",
    "file2.set_name(\"{num_aln}_{taxa_name}\")\n"
   ]
  },
  {
   "cell_type": "code",
   "execution_count": 61,
   "metadata": {},
   "outputs": [],
   "source": [
    "metaset = MetaInfoManager()\n",
    "metaset.add_meta_files([file1, file2])"
   ]
  },
  {
   "cell_type": "code",
   "execution_count": 62,
   "metadata": {},
   "outputs": [
    {
     "data": {
      "text/plain": [
       "{'num_aln': {'1500_p__Acidobacteriota': 1500, '1000_p__Acidobacteriota': 1000},\n",
       " 'prop_aln': {'1500_p__Acidobacteriota': None,\n",
       "  '1000_p__Acidobacteriota': None},\n",
       " 'taxa_name': {'1500_p__Acidobacteriota': 'p__Acidobacteriota',\n",
       "  '1000_p__Acidobacteriota': 'p__Acidobacteriota'},\n",
       " 'taxa_scale': {'1500_p__Acidobacteriota': 'phylum',\n",
       "  '1000_p__Acidobacteriota': 'phylum'},\n",
       " 'train_loc_path': {'1500_p__Acidobacteriota': '/home/tim/project/bacterialQ/alignment/r220/train',\n",
       "  '1000_p__Acidobacteriota': '/home/tim/project/bacterialQ/alignment/r220/train'},\n",
       " 'test_loc_path': {'1500_p__Acidobacteriota': '/home/tim/project/bacterialQ/alignment/r220/test',\n",
       "  '1000_p__Acidobacteriota': '/home/tim/project/bacterialQ/alignment/r220/test'},\n",
       " 'taxa_file': {'1500_p__Acidobacteriota': '/home/tim/project/bacterialQ/data/r220/combined_df.csv',\n",
       "  '1000_p__Acidobacteriota': '/home/tim/project/bacterialQ/data/r220/combined_df.csv'},\n",
       " 'ref_tree': {'1500_p__Acidobacteriota': '/home/tim/project/bacterialQ/data/r220/bac120_r220.tree',\n",
       "  '1000_p__Acidobacteriota': '/home/tim/project/bacterialQ/data/r220/bac120_r220.tree'},\n",
       " 'model_dir': {'1500_p__Acidobacteriota': '/home/tim/project/bacterialQ/data/modelset_ALL.nex',\n",
       "  '1000_p__Acidobacteriota': '/home/tim/project/bacterialQ/data/modelset_ALL.nex'},\n",
       " 'initial_model_set': {'1500_p__Acidobacteriota': 'LG,Q.PFAM,Q.INSECT,Q.PLANT,Q.YEAST,MTMET,MTART',\n",
       "  '1000_p__Acidobacteriota': 'LG,Q.PFAM,Q.INSECT,Q.PLANT,Q.YEAST,MTMET,MTART'},\n",
       " 't_drop_species': {'1500_p__Acidobacteriota': 0.2,\n",
       "  '1000_p__Acidobacteriota': 0.2},\n",
       " 't_drop_loc': {'1500_p__Acidobacteriota': 0.1,\n",
       "  '1000_p__Acidobacteriota': 0.1},\n",
       " 'max_threads': {'1500_p__Acidobacteriota': '50',\n",
       "  '1000_p__Acidobacteriota': '50'},\n",
       " 'max_iterate': {'1500_p__Acidobacteriota': 5, '1000_p__Acidobacteriota': 5},\n",
       " 'converge_thres': {'1500_p__Acidobacteriota': 0.999,\n",
       "  '1000_p__Acidobacteriota': 0.999},\n",
       " 'time_limit': {'1500_p__Acidobacteriota': 86400,\n",
       "  '1000_p__Acidobacteriota': 86400},\n",
       " 'prefix': {'1500_p__Acidobacteriota': 'p__Acidobacteriota_100_1500',\n",
       "  '1000_p__Acidobacteriota': 'p__Acidobacteriota_150_1000'},\n",
       " 'test_in_loop': {'1500_p__Acidobacteriota': False,\n",
       "  '1000_p__Acidobacteriota': False},\n",
       " 'test_subtrees': {'1500_p__Acidobacteriota': False,\n",
       "  '1000_p__Acidobacteriota': False},\n",
       " 'test_partition_test_loci': {'1500_p__Acidobacteriota': True,\n",
       "  '1000_p__Acidobacteriota': True},\n",
       " 'estimate_best_final_tree': {'1500_p__Acidobacteriota': True,\n",
       "  '1000_p__Acidobacteriota': True},\n",
       " 'estimate_best_concat_model': {'1500_p__Acidobacteriota': True,\n",
       "  '1000_p__Acidobacteriota': True},\n",
       " 'test_final_tree': {'1500_p__Acidobacteriota': True,\n",
       "  '1000_p__Acidobacteriota': True},\n",
       " 'cross_validation': {'1500_p__Acidobacteriota': False,\n",
       "  '1000_p__Acidobacteriota': False},\n",
       " 'final_tree_tool': {'1500_p__Acidobacteriota': 'FT',\n",
       "  '1000_p__Acidobacteriota': 'FT'},\n",
       " 'fix_subtree_num': {'1500_p__Acidobacteriota': False,\n",
       "  '1000_p__Acidobacteriota': False},\n",
       " 'fix_subtree_topology': {'1500_p__Acidobacteriota': False,\n",
       "  '1000_p__Acidobacteriota': False},\n",
       " 'pipeline_test_settings': {'1500_p__Acidobacteriota': True,\n",
       "  '1000_p__Acidobacteriota': True},\n",
       " 'use_outgroup': {'1500_p__Acidobacteriota': True,\n",
       "  '1000_p__Acidobacteriota': True},\n",
       " 'decorated_tree': {'1500_p__Acidobacteriota': '/home/tim/project/bacterialQ/data/r220/bac120_r220_decorated.tree',\n",
       "  '1000_p__Acidobacteriota': '/home/tim/project/bacterialQ/data/r220/bac120_r220_decorated.tree'},\n",
       " 'outgroup_taxa_list': {'1500_p__Acidobacteriota': '/home/tim/project/bacterialQ/data/GTDB_stable_phyla_list.txt',\n",
       "  '1000_p__Acidobacteriota': '/home/tim/project/bacterialQ/data/GTDB_stable_phyla_list.txt'},\n",
       " 'tree_size_lower_lim': {'1500_p__Acidobacteriota': 10,\n",
       "  '1000_p__Acidobacteriota': 10},\n",
       " 'tree_size_upper_lim': {'1500_p__Acidobacteriota': 100,\n",
       "  '1000_p__Acidobacteriota': 150},\n",
       " 'prune_mode': {'1500_p__Acidobacteriota': 'split',\n",
       "  '1000_p__Acidobacteriota': 'split'},\n",
       " 'model_update_summary': {'1500_p__Acidobacteriota': True,\n",
       "  '1000_p__Acidobacteriota': True},\n",
       " 'tree_comparison_report': {'1500_p__Acidobacteriota': True,\n",
       "  '1000_p__Acidobacteriota': True},\n",
       " 'keep_cmd_output': {'1500_p__Acidobacteriota': False,\n",
       "  '1000_p__Acidobacteriota': False},\n",
       " 'keep_tmp': {'1500_p__Acidobacteriota': False,\n",
       "  '1000_p__Acidobacteriota': False},\n",
       " 'keep_aln': {'1500_p__Acidobacteriota': False,\n",
       "  '1000_p__Acidobacteriota': False},\n",
       " 'verbose': {'1500_p__Acidobacteriota': True, '1000_p__Acidobacteriota': True},\n",
       " 'output_dir': {'1500_p__Acidobacteriota': '../Result_nova/method_test/p__Acidobacteriota/free_subtree_topo/p__Acidobacteriota_100_1500',\n",
       "  '1000_p__Acidobacteriota': '../Result_nova/method_test/p__Acidobacteriota/free_subtree_topo/p__Acidobacteriota_150_1000'},\n",
       " 'FastTreeMP_path': {'1500_p__Acidobacteriota': '/home/tim/tool/FastTreeMP/FastTreeMP',\n",
       "  '1000_p__Acidobacteriota': '/home/tim/tool/FastTreeMP/FastTreeMP'},\n",
       " 'keep_model_thres': {'1500_p__Acidobacteriota': 0.05,\n",
       "  '1000_p__Acidobacteriota': 0.05},\n",
       " 'code_version': {'1500_p__Acidobacteriota': '2024-07-26',\n",
       "  '1000_p__Acidobacteriota': None},\n",
       " 'start_time': {'1500_p__Acidobacteriota': '2024-07-26 11:44:43',\n",
       "  '1000_p__Acidobacteriota': None},\n",
       " 'num_aln_inloop': {'1500_p__Acidobacteriota': [1500],\n",
       "  '1000_p__Acidobacteriota': [1000]},\n",
       " 'total_aln_inloop': {'1500_p__Acidobacteriota': [4000],\n",
       "  '1000_p__Acidobacteriota': [3000]},\n",
       " 'time_usage_inloop': {'1500_p__Acidobacteriota': [131244.70766735077],\n",
       "  '1000_p__Acidobacteriota': [96598.4583966732]},\n",
       " 'training_tree_ll': {'1500_p__Acidobacteriota': [-30427126.754],\n",
       "  '1000_p__Acidobacteriota': [-30425088.899]},\n",
       " 'final_tree_ll': {'1500_p__Acidobacteriota': -35729092.643,\n",
       "  '1000_p__Acidobacteriota': -35725486.549},\n",
       " 'path': {'1500_p__Acidobacteriota': '/home/tim/project/bacterialQ/Result_nova/method_test/p__Acidobacteriota/free_subtree_topo/p__Acidobacteriota_100_1500/meta.json',\n",
       "  '1000_p__Acidobacteriota': '/home/tim/project/bacterialQ/Result_nova/method_test/p__Acidobacteriota/free_subtree_topo/p__Acidobacteriota_150_1000/meta.json'}}"
      ]
     },
     "execution_count": 62,
     "metadata": {},
     "output_type": "execute_result"
    }
   ],
   "source": [
    "metaset.rejoin_meta_files(force=True, record_path=True)"
   ]
  },
  {
   "cell_type": "code",
   "execution_count": 106,
   "metadata": {},
   "outputs": [],
   "source": [
    "import os\n",
    "\n",
    "def find_meta_json_files(directory):\n",
    "    meta_files = []\n",
    "    for root, dirs, files in os.walk(directory):\n",
    "        for file in files:\n",
    "            if file == \"meta.json\":\n",
    "                meta_files.append(os.path.join(root, file))\n",
    "    return meta_files\n",
    "\n",
    "# directory_path = \"/home/tim/project/bacterialQ/Result_nova/method_test/p__Gemmatimonadota\"\n",
    "# directory_path = \"/home/tim/project/bacterialQ/Result_nova/method_test/p__Acidobacteriota\"\n",
    "directory_path = \"/home/tim/project/bacterialQ/Result_nova/method_test/p__Spirochaetota\"\n",
    "meta_files = find_meta_json_files(directory_path)"
   ]
  },
  {
   "cell_type": "code",
   "execution_count": 107,
   "metadata": {},
   "outputs": [
    {
     "data": {
      "text/plain": [
       "['/home/tim/project/bacterialQ/Result_nova/method_test/p__Spirochaetota/fix_subtree_topo/p__Spirochaetota_100_1000/meta.json',\n",
       " '/home/tim/project/bacterialQ/Result_nova/method_test/p__Spirochaetota/fix_subtree_topo/p__Spirochaetota_100_1500/meta.json',\n",
       " '/home/tim/project/bacterialQ/Result_nova/method_test/p__Spirochaetota/fix_subtree_topo/p__Spirochaetota_150_1500/meta.json',\n",
       " '/home/tim/project/bacterialQ/Result_nova/method_test/p__Spirochaetota/fix_subtree_topo/p__Spirochaetota_50_2000/meta.json',\n",
       " '/home/tim/project/bacterialQ/Result_nova/method_test/p__Spirochaetota/fix_subtree_topo/p__Spirochaetota_200_1500/meta.json',\n",
       " '/home/tim/project/bacterialQ/Result_nova/method_test/p__Spirochaetota/fix_subtree_topo/p__Spirochaetota_150_2000/meta.json',\n",
       " '/home/tim/project/bacterialQ/Result_nova/method_test/p__Spirochaetota/fix_subtree_topo/p__Spirochaetota_100_2000/meta.json',\n",
       " '/home/tim/project/bacterialQ/Result_nova/method_test/p__Spirochaetota/fix_subtree_topo/p__Spirochaetota_200_1000/meta.json',\n",
       " '/home/tim/project/bacterialQ/Result_nova/method_test/p__Spirochaetota/fix_subtree_topo/p__Spirochaetota_150_1000/meta.json',\n",
       " '/home/tim/project/bacterialQ/Result_nova/method_test/p__Spirochaetota/fix_subtree_topo/p__Spirochaetota_50_1000/meta.json',\n",
       " '/home/tim/project/bacterialQ/Result_nova/method_test/p__Spirochaetota/fix_subtree_topo/p__Spirochaetota_50_1500/meta.json',\n",
       " '/home/tim/project/bacterialQ/Result_nova/method_test/p__Spirochaetota/free_subtree_topo/p__Spirochaetota_100_1000/meta.json',\n",
       " '/home/tim/project/bacterialQ/Result_nova/method_test/p__Spirochaetota/free_subtree_topo/p__Spirochaetota_100_1500/meta.json',\n",
       " '/home/tim/project/bacterialQ/Result_nova/method_test/p__Spirochaetota/free_subtree_topo/p__Spirochaetota_150_1500/meta.json',\n",
       " '/home/tim/project/bacterialQ/Result_nova/method_test/p__Spirochaetota/free_subtree_topo/p__Spirochaetota_50_2000/meta.json',\n",
       " '/home/tim/project/bacterialQ/Result_nova/method_test/p__Spirochaetota/free_subtree_topo/p__Spirochaetota_200_1500/meta.json',\n",
       " '/home/tim/project/bacterialQ/Result_nova/method_test/p__Spirochaetota/free_subtree_topo/p__Spirochaetota_100_2000/meta.json',\n",
       " '/home/tim/project/bacterialQ/Result_nova/method_test/p__Spirochaetota/free_subtree_topo/p__Spirochaetota_200_1000/meta.json',\n",
       " '/home/tim/project/bacterialQ/Result_nova/method_test/p__Spirochaetota/free_subtree_topo/p__Spirochaetota_150_1000/meta.json',\n",
       " '/home/tim/project/bacterialQ/Result_nova/method_test/p__Spirochaetota/free_subtree_topo/p__Spirochaetota_50_1000/meta.json',\n",
       " '/home/tim/project/bacterialQ/Result_nova/method_test/p__Spirochaetota/free_subtree_topo/p__Spirochaetota_50_1500/meta.json']"
      ]
     },
     "execution_count": 107,
     "metadata": {},
     "output_type": "execute_result"
    }
   ],
   "source": [
    "meta_files"
   ]
  },
  {
   "cell_type": "code",
   "execution_count": 108,
   "metadata": {},
   "outputs": [],
   "source": [
    "def convert_suffix(s):\n",
    "    s_lower = s.lower()\n",
    "    if s_lower.endswith(\"_false\"):\n",
    "        return s[:-6] + \"_nc\"\n",
    "    elif s_lower.endswith(\"_true\"):\n",
    "        return s[:-5] + \"_tc\"\n",
    "    return s\n"
   ]
  },
  {
   "cell_type": "code",
   "execution_count": 109,
   "metadata": {},
   "outputs": [
    {
     "name": "stdout",
     "output_type": "stream",
     "text": [
      "p__Spirochaetota_100_1000_True\n",
      "p__Spirochaetota_100_1500_True\n",
      "p__Spirochaetota_150_1500_True\n",
      "p__Spirochaetota_50_2000_True\n",
      "p__Spirochaetota_200_1500_True\n",
      "p__Spirochaetota_150_2000_True\n",
      "p__Spirochaetota_100_2000_True\n",
      "p__Spirochaetota_200_1000_True\n",
      "p__Spirochaetota_150_1000_True\n",
      "p__Spirochaetota_50_1000_True\n",
      "p__Spirochaetota_50_1500_True\n",
      "p__Spirochaetota_100_1000_False\n",
      "p__Spirochaetota_100_1500_False\n",
      "p__Spirochaetota_150_1500_False\n",
      "p__Spirochaetota_50_2000_False\n",
      "p__Spirochaetota_200_1500_False\n",
      "p__Spirochaetota_100_2000_False\n",
      "p__Spirochaetota_200_1000_False\n",
      "p__Spirochaetota_150_1000_False\n",
      "p__Spirochaetota_50_1000_False\n",
      "p__Spirochaetota_50_1500_False\n"
     ]
    }
   ],
   "source": [
    "meta_store = MetaInfoManager()\n",
    "for meta_file in meta_files:\n",
    "    reader = MetaInfoReader(meta_file)\n",
    "    reader.set_name(\"{taxa_name}_{tree_size_upper_lim}_{num_aln}_{fix_subtree_topology}\")\n",
    "    print(reader.name)\n",
    "    reader.name = convert_suffix(reader.name)\n",
    "    meta_store.add_meta_file(reader)"
   ]
  },
  {
   "cell_type": "code",
   "execution_count": 110,
   "metadata": {},
   "outputs": [],
   "source": [
    "joined_meta = meta_store.rejoin_meta_files(record_path=True)"
   ]
  },
  {
   "cell_type": "code",
   "execution_count": 111,
   "metadata": {},
   "outputs": [
    {
     "data": {
      "text/plain": [
       "[('p__Spirochaetota_200_1000_nc', -25479754.099),\n",
       " ('p__Spirochaetota_200_1500_tc', -25479987.704),\n",
       " ('p__Spirochaetota_200_1000_tc', -25480587.968),\n",
       " ('p__Spirochaetota_150_1000_tc', -25483736.982),\n",
       " ('p__Spirochaetota_150_1000_nc', -25484320.421),\n",
       " ('p__Spirochaetota_150_1500_nc', -25485311.1),\n",
       " ('p__Spirochaetota_150_2000_tc', -25485923.432),\n",
       " ('p__Spirochaetota_150_1500_tc', -25487650.428),\n",
       " ('p__Spirochaetota_100_2000_nc', -25493734.457),\n",
       " ('p__Spirochaetota_100_1500_nc', -25494896.521),\n",
       " ('p__Spirochaetota_100_1000_tc', -25494948.38),\n",
       " ('p__Spirochaetota_100_2000_tc', -25495048.729),\n",
       " ('p__Spirochaetota_100_1000_nc', -25495826.082),\n",
       " ('p__Spirochaetota_100_1500_tc', -25496303.506),\n",
       " ('p__Spirochaetota_50_1000_tc', -25505486.838),\n",
       " ('p__Spirochaetota_50_2000_nc', -25506645.382),\n",
       " ('p__Spirochaetota_50_2000_tc', -25507674.856),\n",
       " ('p__Spirochaetota_50_1500_nc', -25509580.266),\n",
       " ('p__Spirochaetota_50_1500_tc', -25510269.968),\n",
       " ('p__Spirochaetota_50_1000_nc', -25512070.159)]"
      ]
     },
     "execution_count": 111,
     "metadata": {},
     "output_type": "execute_result"
    }
   ],
   "source": [
    "sorted(joined_meta['final_tree_ll'].items(), key=lambda x: x[1], reverse=True)"
   ]
  },
  {
   "cell_type": "code",
   "execution_count": 112,
   "metadata": {},
   "outputs": [
    {
     "data": {
      "text/plain": [
       "[('p__Spirochaetota_200_1500_nc', [-21396967.716]),\n",
       " ('p__Spirochaetota_200_1000_nc', [-21398173.195]),\n",
       " ('p__Spirochaetota_200_1500_tc', [-21398418.231]),\n",
       " ('p__Spirochaetota_200_1000_tc', [-21398950.31]),\n",
       " ('p__Spirochaetota_150_1500_nc', [-21402845.881]),\n",
       " ('p__Spirochaetota_150_2000_tc', [-21403441.208]),\n",
       " ('p__Spirochaetota_150_1500_tc', [-21404773.581]),\n",
       " ('p__Spirochaetota_150_1000_nc', [-21405333.284]),\n",
       " ('p__Spirochaetota_150_1000_tc', [-21406358.149]),\n",
       " ('p__Spirochaetota_100_2000_nc', [-21410041.507]),\n",
       " ('p__Spirochaetota_100_1500_nc', [-21410901.303]),\n",
       " ('p__Spirochaetota_100_2000_tc', [-21411214.471]),\n",
       " ('p__Spirochaetota_100_1500_tc', [-21411515.648]),\n",
       " ('p__Spirochaetota_100_1000_nc', [-21412363.398]),\n",
       " ('p__Spirochaetota_100_1000_tc', [-21413688.52]),\n",
       " ('p__Spirochaetota_50_1500_nc', [-21421332.082]),\n",
       " ('p__Spirochaetota_50_1500_tc', [-21421437.393]),\n",
       " ('p__Spirochaetota_50_2000_nc', [-21421600.723]),\n",
       " ('p__Spirochaetota_50_1000_tc', [-21421685.71]),\n",
       " ('p__Spirochaetota_50_2000_tc', [-21422356.604]),\n",
       " ('p__Spirochaetota_50_1000_nc', [-21426447.057])]"
      ]
     },
     "execution_count": 112,
     "metadata": {},
     "output_type": "execute_result"
    }
   ],
   "source": [
    "sorted(joined_meta['training_tree_ll'].items(), key=lambda x: x[1], reverse=True)"
   ]
  },
  {
   "cell_type": "code",
   "execution_count": 113,
   "metadata": {},
   "outputs": [],
   "source": [
    "import pandas as pd "
   ]
  },
  {
   "cell_type": "code",
   "execution_count": 114,
   "metadata": {},
   "outputs": [],
   "source": [
    "df = pd.DataFrame(joined_meta['test_partition_result']).T\n",
    "\n",
    "# 重置索引，将原索引变为'name'列\n",
    "df.reset_index(inplace=True)\n",
    "df.rename(columns={'index': 'name'}, inplace=True)"
   ]
  },
  {
   "cell_type": "code",
   "execution_count": 115,
   "metadata": {},
   "outputs": [
    {
     "data": {
      "text/html": [
       "<div>\n",
       "<style scoped>\n",
       "    .dataframe tbody tr th:only-of-type {\n",
       "        vertical-align: middle;\n",
       "    }\n",
       "\n",
       "    .dataframe tbody tr th {\n",
       "        vertical-align: top;\n",
       "    }\n",
       "\n",
       "    .dataframe thead th {\n",
       "        text-align: right;\n",
       "    }\n",
       "</style>\n",
       "<table border=\"1\" class=\"dataframe\">\n",
       "  <thead>\n",
       "    <tr style=\"text-align: right;\">\n",
       "      <th></th>\n",
       "      <th>name</th>\n",
       "      <th>log_likelihood</th>\n",
       "      <th>BIC</th>\n",
       "      <th>cpu_time</th>\n",
       "    </tr>\n",
       "  </thead>\n",
       "  <tbody>\n",
       "    <tr>\n",
       "      <th>5</th>\n",
       "      <td>p__Spirochaetota_200_1000_nc</td>\n",
       "      <td>-4045798.674</td>\n",
       "      <td>8118915.054</td>\n",
       "      <td>771452.0</td>\n",
       "    </tr>\n",
       "    <tr>\n",
       "      <th>0</th>\n",
       "      <td>p__Spirochaetota_100_1000_tc</td>\n",
       "      <td>-4046837.1424</td>\n",
       "      <td>8121106.6599</td>\n",
       "      <td>1565570.0</td>\n",
       "    </tr>\n",
       "    <tr>\n",
       "      <th>3</th>\n",
       "      <td>p__Spirochaetota_100_1000_nc</td>\n",
       "      <td>-4046853.0081</td>\n",
       "      <td>8121120.75</td>\n",
       "      <td>187821.0</td>\n",
       "    </tr>\n",
       "    <tr>\n",
       "      <th>4</th>\n",
       "      <td>p__Spirochaetota_100_1500_nc</td>\n",
       "      <td>-4047006.1517</td>\n",
       "      <td>8121321.1887</td>\n",
       "      <td>1507950.0</td>\n",
       "    </tr>\n",
       "    <tr>\n",
       "      <th>1</th>\n",
       "      <td>p__Spirochaetota_50_1000_tc</td>\n",
       "      <td>-4047605.6552</td>\n",
       "      <td>8122626.0441</td>\n",
       "      <td>1123650.0</td>\n",
       "    </tr>\n",
       "    <tr>\n",
       "      <th>6</th>\n",
       "      <td>p__Spirochaetota_50_1000_nc</td>\n",
       "      <td>-4047905.9104</td>\n",
       "      <td>8123226.5545</td>\n",
       "      <td>1233980.0</td>\n",
       "    </tr>\n",
       "    <tr>\n",
       "      <th>7</th>\n",
       "      <td>p__Spirochaetota_50_1500_nc</td>\n",
       "      <td>-4048052.7567</td>\n",
       "      <td>8123414.3988</td>\n",
       "      <td>686475.0</td>\n",
       "    </tr>\n",
       "    <tr>\n",
       "      <th>2</th>\n",
       "      <td>p__Spirochaetota_50_1500_tc</td>\n",
       "      <td>-4048171.563</td>\n",
       "      <td>8123616.7285</td>\n",
       "      <td>922102.0</td>\n",
       "    </tr>\n",
       "  </tbody>\n",
       "</table>\n",
       "</div>"
      ],
      "text/plain": [
       "                           name log_likelihood           BIC   cpu_time\n",
       "5  p__Spirochaetota_200_1000_nc   -4045798.674   8118915.054   771452.0\n",
       "0  p__Spirochaetota_100_1000_tc  -4046837.1424  8121106.6599  1565570.0\n",
       "3  p__Spirochaetota_100_1000_nc  -4046853.0081    8121120.75   187821.0\n",
       "4  p__Spirochaetota_100_1500_nc  -4047006.1517  8121321.1887  1507950.0\n",
       "1   p__Spirochaetota_50_1000_tc  -4047605.6552  8122626.0441  1123650.0\n",
       "6   p__Spirochaetota_50_1000_nc  -4047905.9104  8123226.5545  1233980.0\n",
       "7   p__Spirochaetota_50_1500_nc  -4048052.7567  8123414.3988   686475.0\n",
       "2   p__Spirochaetota_50_1500_tc   -4048171.563  8123616.7285   922102.0"
      ]
     },
     "execution_count": 115,
     "metadata": {},
     "output_type": "execute_result"
    }
   ],
   "source": [
    "df[['name','log_likelihood', 'BIC', 'cpu_time']].sort_values(by='BIC', ascending=True)"
   ]
  },
  {
   "cell_type": "code",
   "execution_count": 116,
   "metadata": {},
   "outputs": [
    {
     "data": {
      "text/plain": [
       "{'p__Spirochaetota_100_1000_tc': {'p__Spirochaetota_100_1000_2': 14,\n",
       "  'Q.PFAM': 3,\n",
       "  'Q.INSECT': 3},\n",
       " 'p__Spirochaetota_50_1000_tc': {'p__Spirochaetota_50_1000_2': 13,\n",
       "  'Q.PFAM': 3,\n",
       "  'Q.INSECT': 3,\n",
       "  'Q.YEAST': 1},\n",
       " 'p__Spirochaetota_50_1500_tc': {'p__Spirochaetota_50_1500_2': 13,\n",
       "  'Q.PFAM': 3,\n",
       "  'Q.INSECT': 3,\n",
       "  'Q.YEAST': 1},\n",
       " 'p__Spirochaetota_100_1000_nc': {'p__Spirochaetota_100_1000_2': 14,\n",
       "  'Q.PFAM': 3,\n",
       "  'Q.INSECT': 3},\n",
       " 'p__Spirochaetota_100_1500_nc': {'p__Spirochaetota_100_1500_2': 14,\n",
       "  'Q.PFAM': 3,\n",
       "  'Q.INSECT': 3},\n",
       " 'p__Spirochaetota_200_1000_nc': {'p__Spirochaetota_200_1000_1': 15,\n",
       "  'Q.PFAM': 3,\n",
       "  'Q.INSECT': 2},\n",
       " 'p__Spirochaetota_50_1000_nc': {'p__Spirochaetota_50_1000_2': 13,\n",
       "  'Q.PFAM': 3,\n",
       "  'Q.INSECT': 3,\n",
       "  'Q.YEAST': 1},\n",
       " 'p__Spirochaetota_50_1500_nc': {'p__Spirochaetota_50_1500_2': 13,\n",
       "  'Q.PFAM': 3,\n",
       "  'Q.INSECT': 3,\n",
       "  'Q.YEAST': 1}}"
      ]
     },
     "execution_count": 116,
     "metadata": {},
     "output_type": "execute_result"
    }
   ],
   "source": [
    "joined_meta['final_test_partition']"
   ]
  },
  {
   "cell_type": "code",
   "execution_count": 117,
   "metadata": {},
   "outputs": [
    {
     "ename": "SyntaxError",
     "evalue": "invalid syntax (2092509985.py, line 1)",
     "output_type": "error",
     "traceback": [
      "\u001b[0;36m  Cell \u001b[0;32mIn[117], line 1\u001b[0;36m\u001b[0m\n\u001b[0;31m    {key1:{name1:value1, name2:value2}, key2:{name1:value1, name2:value2}} --> |name | key1 | key2 |\u001b[0m\n\u001b[0m                                                                            ^\u001b[0m\n\u001b[0;31mSyntaxError\u001b[0m\u001b[0;31m:\u001b[0m invalid syntax\n"
     ]
    }
   ],
   "source": [
    "{key1:{name1:value1, name2:value2}, key2:{name1:value1, name2:value2}, key3:{name1:dict1, name2:dict2}} \n",
    "Where dict 1 / dict 2 may like:\n",
    "{dict_subkey1: value3, dict_subkey2: value4, dict_sub1:dict_sub1...}\n",
    "\n",
    "--> pandas sheet\n",
    "|name | key1 | key2 | dict1.key()_dict_subkey1| dict1.key()_dict_subkey2| ...|\n",
    "|name1|value1|value1| value3                 | value4                 | ...|\n",
    "|name2|value2|value2| value3                 | value4                 | ...|\n",
    "\n",
    "That is to recursively flatten the nested dictionary into a pandas sheet, and represent the name of the variable as dictkey_subdictkey...\n",
    "But only flatten that the values is dict, float, int, str, set, bool, None, but not list."
   ]
  },
  {
   "cell_type": "code",
   "execution_count": 119,
   "metadata": {},
   "outputs": [
    {
     "ename": "AttributeError",
     "evalue": "'str' object has no attribute 'items'",
     "output_type": "error",
     "traceback": [
      "\u001b[0;31m---------------------------------------------------------------------------\u001b[0m",
      "\u001b[0;31mAttributeError\u001b[0m                            Traceback (most recent call last)",
      "Cell \u001b[0;32mIn[119], line 33\u001b[0m\n\u001b[1;32m     26\u001b[0m \u001b[38;5;66;03m# Example usage\u001b[39;00m\n\u001b[1;32m     27\u001b[0m nested_dict \u001b[38;5;241m=\u001b[39m {\n\u001b[1;32m     28\u001b[0m     \u001b[38;5;124m'\u001b[39m\u001b[38;5;124mkey1\u001b[39m\u001b[38;5;124m'\u001b[39m: {\u001b[38;5;124m'\u001b[39m\u001b[38;5;124mname1\u001b[39m\u001b[38;5;124m'\u001b[39m: \u001b[38;5;124m'\u001b[39m\u001b[38;5;124mvalue1\u001b[39m\u001b[38;5;124m'\u001b[39m, \u001b[38;5;124m'\u001b[39m\u001b[38;5;124mname2\u001b[39m\u001b[38;5;124m'\u001b[39m: \u001b[38;5;124m'\u001b[39m\u001b[38;5;124mvalue2\u001b[39m\u001b[38;5;124m'\u001b[39m},\n\u001b[1;32m     29\u001b[0m     \u001b[38;5;124m'\u001b[39m\u001b[38;5;124mkey2\u001b[39m\u001b[38;5;124m'\u001b[39m: {\u001b[38;5;124m'\u001b[39m\u001b[38;5;124mname1\u001b[39m\u001b[38;5;124m'\u001b[39m: \u001b[38;5;124m'\u001b[39m\u001b[38;5;124mvalue1\u001b[39m\u001b[38;5;124m'\u001b[39m, \u001b[38;5;124m'\u001b[39m\u001b[38;5;124mname2\u001b[39m\u001b[38;5;124m'\u001b[39m: \u001b[38;5;124m'\u001b[39m\u001b[38;5;124mvalue2\u001b[39m\u001b[38;5;124m'\u001b[39m},\n\u001b[1;32m     30\u001b[0m     \u001b[38;5;124m'\u001b[39m\u001b[38;5;124mkey3\u001b[39m\u001b[38;5;124m'\u001b[39m: {\u001b[38;5;124m'\u001b[39m\u001b[38;5;124mname1\u001b[39m\u001b[38;5;124m'\u001b[39m: {\u001b[38;5;124m'\u001b[39m\u001b[38;5;124mdict_subkey1\u001b[39m\u001b[38;5;124m'\u001b[39m: \u001b[38;5;124m'\u001b[39m\u001b[38;5;124mvalue3\u001b[39m\u001b[38;5;124m'\u001b[39m, \u001b[38;5;124m'\u001b[39m\u001b[38;5;124mdict_subkey2\u001b[39m\u001b[38;5;124m'\u001b[39m: \u001b[38;5;124m'\u001b[39m\u001b[38;5;124mvalue4\u001b[39m\u001b[38;5;124m'\u001b[39m}, \u001b[38;5;124m'\u001b[39m\u001b[38;5;124mname2\u001b[39m\u001b[38;5;124m'\u001b[39m: {\u001b[38;5;124m'\u001b[39m\u001b[38;5;124mdict_subkey1\u001b[39m\u001b[38;5;124m'\u001b[39m: \u001b[38;5;124m'\u001b[39m\u001b[38;5;124mvalue3\u001b[39m\u001b[38;5;124m'\u001b[39m, \u001b[38;5;124m'\u001b[39m\u001b[38;5;124mdict_subkey2\u001b[39m\u001b[38;5;124m'\u001b[39m: \u001b[38;5;124m'\u001b[39m\u001b[38;5;124mvalue4\u001b[39m\u001b[38;5;124m'\u001b[39m}}\n\u001b[1;32m     31\u001b[0m }\n\u001b[0;32m---> 33\u001b[0m df \u001b[38;5;241m=\u001b[39m \u001b[43mnested_dict_to_dataframe\u001b[49m\u001b[43m(\u001b[49m\u001b[43mnested_dict\u001b[49m\u001b[43m)\u001b[49m\n\u001b[1;32m     34\u001b[0m \u001b[38;5;28mprint\u001b[39m(df)\n",
      "Cell \u001b[0;32mIn[119], line 20\u001b[0m, in \u001b[0;36mnested_dict_to_dataframe\u001b[0;34m(nested_dict)\u001b[0m\n\u001b[1;32m     18\u001b[0m         \u001b[38;5;28;01mif\u001b[39;00m sub_key \u001b[38;5;129;01mnot\u001b[39;00m \u001b[38;5;129;01min\u001b[39;00m flattened_data:\n\u001b[1;32m     19\u001b[0m             flattened_data[sub_key] \u001b[38;5;241m=\u001b[39m {}\n\u001b[0;32m---> 20\u001b[0m         flattened_data[sub_key][key] \u001b[38;5;241m=\u001b[39m \u001b[43mflatten_dict\u001b[49m\u001b[43m(\u001b[49m\u001b[43mvalue\u001b[49m\u001b[43m)\u001b[49m\n\u001b[1;32m     22\u001b[0m \u001b[38;5;66;03m# Convert to DataFrame\u001b[39;00m\n\u001b[1;32m     23\u001b[0m df \u001b[38;5;241m=\u001b[39m pd\u001b[38;5;241m.\u001b[39mDataFrame(flattened_data)\u001b[38;5;241m.\u001b[39mT\n",
      "Cell \u001b[0;32mIn[119], line 5\u001b[0m, in \u001b[0;36mflatten_dict\u001b[0;34m(d, parent_key, sep)\u001b[0m\n\u001b[1;32m      3\u001b[0m \u001b[38;5;28;01mdef\u001b[39;00m \u001b[38;5;21mflatten_dict\u001b[39m(d, parent_key\u001b[38;5;241m=\u001b[39m\u001b[38;5;124m'\u001b[39m\u001b[38;5;124m'\u001b[39m, sep\u001b[38;5;241m=\u001b[39m\u001b[38;5;124m'\u001b[39m\u001b[38;5;124m_\u001b[39m\u001b[38;5;124m'\u001b[39m):\n\u001b[1;32m      4\u001b[0m     items \u001b[38;5;241m=\u001b[39m []\n\u001b[0;32m----> 5\u001b[0m     \u001b[38;5;28;01mfor\u001b[39;00m k, v \u001b[38;5;129;01min\u001b[39;00m \u001b[43md\u001b[49m\u001b[38;5;241;43m.\u001b[39;49m\u001b[43mitems\u001b[49m():\n\u001b[1;32m      6\u001b[0m         new_key \u001b[38;5;241m=\u001b[39m \u001b[38;5;124mf\u001b[39m\u001b[38;5;124m\"\u001b[39m\u001b[38;5;132;01m{\u001b[39;00mparent_key\u001b[38;5;132;01m}\u001b[39;00m\u001b[38;5;132;01m{\u001b[39;00msep\u001b[38;5;132;01m}\u001b[39;00m\u001b[38;5;132;01m{\u001b[39;00mk\u001b[38;5;132;01m}\u001b[39;00m\u001b[38;5;124m\"\u001b[39m \u001b[38;5;28;01mif\u001b[39;00m parent_key \u001b[38;5;28;01melse\u001b[39;00m k\n\u001b[1;32m      7\u001b[0m         \u001b[38;5;28;01mif\u001b[39;00m \u001b[38;5;28misinstance\u001b[39m(v, \u001b[38;5;28mdict\u001b[39m):\n",
      "\u001b[0;31mAttributeError\u001b[0m: 'str' object has no attribute 'items'"
     ]
    }
   ],
   "source": [
    "import pandas as pd\n",
    "\n",
    "def flatten_dict(d, parent_key='', sep='_'):\n",
    "    items = []\n",
    "    for k, v in d.items():\n",
    "        new_key = f\"{parent_key}{sep}{k}\" if parent_key else k\n",
    "        if isinstance(v, dict):\n",
    "            items.extend(flatten_dict(v, new_key, sep=sep).items())\n",
    "        elif isinstance(v, (float, int, str, set, bool, type(None))):\n",
    "            items.append((new_key, v))\n",
    "        # Skip lists\n",
    "    return dict(items)\n",
    "\n",
    "def nested_dict_to_dataframe(nested_dict):\n",
    "    flattened_data = {}\n",
    "    for key, sub_dict in nested_dict.items():\n",
    "        for sub_key, value in sub_dict.items():\n",
    "            if sub_key not in flattened_data:\n",
    "                flattened_data[sub_key] = {}\n",
    "            flattened_data[sub_key][key] = flatten_dict(value)\n",
    "    \n",
    "    # Convert to DataFrame\n",
    "    df = pd.DataFrame(flattened_data).T\n",
    "    return df\n",
    "\n",
    "# Example usage\n",
    "nested_dict = {\n",
    "    'key1': {'name1': 'value1', 'name2': 'value2'},\n",
    "    'key2': {'name1': 'value1', 'name2': 'value2'},\n",
    "    'key3': {'name1': {'dict_subkey1': 'value3', 'dict_subkey2': 'value4'}, 'name2': {'dict_subkey1': 'value3', 'dict_subkey2': 'value4'}}\n",
    "}\n",
    "\n",
    "df = nested_dict_to_dataframe(nested_dict)\n",
    "print(df)"
   ]
  },
  {
   "cell_type": "code",
   "execution_count": null,
   "metadata": {},
   "outputs": [],
   "source": []
  }
 ],
 "metadata": {
  "kernelspec": {
   "display_name": "qgtdb",
   "language": "python",
   "name": "python3"
  },
  "language_info": {
   "codemirror_mode": {
    "name": "ipython",
    "version": 3
   },
   "file_extension": ".py",
   "mimetype": "text/x-python",
   "name": "python",
   "nbconvert_exporter": "python",
   "pygments_lexer": "ipython3",
   "version": "3.9.16"
  }
 },
 "nbformat": 4,
 "nbformat_minor": 2
}
